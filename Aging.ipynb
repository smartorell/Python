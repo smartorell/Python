{
 "cells": [
  {
   "cell_type": "code",
   "execution_count": 1,
   "id": "847eeab0",
   "metadata": {},
   "outputs": [],
   "source": [
    "import os, glob, oracledb\n",
    "from sqlalchemy import create_engine\n",
    "os.chdir(r'C:\\Users\\silmao\\OneDrive - Dufry International AG\\Documentos\\Gamma\\Fechamento mensal\\2405')\n",
    "# Path TNSNAMES\n",
    "oracledb.init_oracle_client(config_dir='C:\\Oracle\\instantclient_21_10\\network\\admin')"
   ]
  },
  {
   "cell_type": "code",
   "execution_count": null,
   "id": "f53ae241",
   "metadata": {},
   "outputs": [],
   "source": [
    "!pip install -q cx_Oracle"
   ]
  },
  {
   "cell_type": "code",
   "execution_count": 2,
   "id": "35fb562c",
   "metadata": {},
   "outputs": [],
   "source": [
    "pysqldf = lambda q: sqldf(q, globals())"
   ]
  },
  {
   "cell_type": "code",
   "execution_count": 3,
   "id": "98f67885",
   "metadata": {},
   "outputs": [],
   "source": [
    "import pandas as pd\n",
    "import datetime as dt\n",
    "import pandasql\n",
    "import numpy as np\n",
    "from datetime import datetime\n",
    "from pandasql import sqldf"
   ]
  },
  {
   "cell_type": "code",
   "execution_count": 4,
   "id": "c6e41fd9",
   "metadata": {},
   "outputs": [],
   "source": [
    "# Conectando base Oracle\n",
    "def conecta_oracle(usu, senha, sid):\n",
    "    #conn = oracledb.connect(user = usu, password = senha, dsn = sid)\n",
    "    engine = create_engine('oracle+cx_oracle://'+usu+':'+senha+'@'+sid)\n",
    "    return engine"
   ]
  },
  {
   "cell_type": "code",
   "execution_count": 5,
   "id": "f11e4b27",
   "metadata": {},
   "outputs": [],
   "source": [
    "lista_arquivos = [f for f in os.listdir('.') if f.startswith(\"INPEREBF\") & f.endswith(\".xlsx\")]"
   ]
  },
  {
   "cell_type": "code",
   "execution_count": 6,
   "id": "d95eb027",
   "metadata": {},
   "outputs": [
    {
     "data": {
      "text/plain": [
       "['INPEREBF_BD_2405.xlsx', 'INPEREBF_BR_2405.xlsx']"
      ]
     },
     "execution_count": 6,
     "metadata": {},
     "output_type": "execute_result"
    }
   ],
   "source": [
    "lista_arquivos"
   ]
  },
  {
   "cell_type": "code",
   "execution_count": 7,
   "id": "9dec52f8",
   "metadata": {},
   "outputs": [],
   "source": [
    "if 'base' in locals():\n",
    "    del(base)\n",
    "    del(saldo_aerop)"
   ]
  },
  {
   "cell_type": "code",
   "execution_count": 8,
   "id": "b54a1cd7",
   "metadata": {},
   "outputs": [],
   "source": [
    "for f in lista_arquivos:\n",
    "    temp = pd.read_excel(f)\n",
    "    temp = temp[(temp[\"Saldo disponible calculado\"]).notnull() & (temp[\"Fec.Inic Permanencia\"]).notnull()]\n",
    "    temp = temp[temp[\"Saldo disponible calculado\"] > 0]\n",
    "    temp = temp.drop([c for c in temp.columns if c.startswith(\"Unnamed\")], axis=1)\n",
    "    colunas_saldo = temp.columns[28:len(temp.columns)-1]\n",
    "    colunas_saldo = colunas_saldo.insert(0, temp.columns[12])\n",
    "    saldo_temp = temp.loc[:, colunas_saldo]\n",
    "    temp = temp.iloc[:, [0,1,3,6,8,9,10,11,12,15,24,25]]\n",
    "    if 'base' in locals():\n",
    "        base = pd.concat([base, temp], ignore_index=True)\n",
    "        saldo_aerop = saldo_aerop.merge(saldo_temp, on = \"Articulo\", how = \"outer\")\n",
    "    else:\n",
    "        base = temp\n",
    "        saldo_aerop = saldo_temp"
   ]
  },
  {
   "cell_type": "code",
   "execution_count": 9,
   "id": "908dfc3e",
   "metadata": {},
   "outputs": [],
   "source": [
    "# Filtrando pelos depositos de BD e BR, caso existam outros não desejados\n",
    "base = base[base[\"Deposito\"].isin([\"DA27197888\", \"DA17625216\"])]"
   ]
  },
  {
   "cell_type": "code",
   "execution_count": 10,
   "id": "4281557f",
   "metadata": {},
   "outputs": [],
   "source": [
    "aeroportos = saldo_aerop.columns[1:len(saldo_aerop.columns)]"
   ]
  },
  {
   "cell_type": "code",
   "execution_count": 11,
   "id": "b54484c6",
   "metadata": {},
   "outputs": [
    {
     "data": {
      "text/plain": [
       "Index(['BSB', 'CNF', 'FOR', 'GIG', 'NAT', 'REC', 'FLN', 'GRU', 'POA', 'VCP',\n",
       "       'SSA'],\n",
       "      dtype='object')"
      ]
     },
     "execution_count": 11,
     "metadata": {},
     "output_type": "execute_result"
    }
   ],
   "source": [
    "aeroportos"
   ]
  },
  {
   "cell_type": "code",
   "execution_count": 12,
   "id": "1ce16bdd",
   "metadata": {},
   "outputs": [],
   "source": [
    "saldo_aerop = saldo_aerop.fillna(0)\n",
    "saldo_aerop = saldo_aerop.drop_duplicates()\n",
    "saldo_aerop = saldo_aerop.rename(columns={\"Articulo\": \"item_code\"})\n",
    "saldo_aerop[\"item_code\"] = saldo_aerop[\"item_code\"].astype(str)"
   ]
  },
  {
   "cell_type": "code",
   "execution_count": null,
   "id": "5a43b957",
   "metadata": {},
   "outputs": [],
   "source": [
    "saldo_aerop.head(10)"
   ]
  },
  {
   "cell_type": "code",
   "execution_count": 13,
   "id": "3df6b3b6",
   "metadata": {},
   "outputs": [],
   "source": [
    "saldo_aerop = saldo_aerop.groupby(['item_code']).max()"
   ]
  },
  {
   "cell_type": "code",
   "execution_count": 14,
   "id": "6aad325d",
   "metadata": {},
   "outputs": [],
   "source": [
    "saldo_aerop = saldo_aerop.melt(var_name = \"airport\", value_name = \"Saldo\", ignore_index=False).reset_index()"
   ]
  },
  {
   "cell_type": "code",
   "execution_count": 15,
   "id": "eb880dd4",
   "metadata": {},
   "outputs": [],
   "source": [
    "# datas de referencia \n",
    "dt_base = base.loc[0, \"Fecha proceso\"].replace(day=1)\n",
    "mes_ref = (dt_base - dt.timedelta(days=1)).strftime(\"%Y%m\")"
   ]
  },
  {
   "cell_type": "code",
   "execution_count": 16,
   "id": "ff665abe",
   "metadata": {},
   "outputs": [],
   "source": [
    "dt_inicio_mes = (dt_base - dt.timedelta(days=1)).strftime(\"01-%m-%Y\")\n",
    "dt_fim_mes = (dt_base - dt.timedelta(days=1)).strftime(\"%d-%m-%Y\")"
   ]
  },
  {
   "cell_type": "code",
   "execution_count": 17,
   "id": "2554736c",
   "metadata": {},
   "outputs": [],
   "source": [
    "# Abre conexão com base Oracle RJD27 para recuperar data primeiro recebimento anterior a 1 ano\n",
    "db = conecta_oracle(\"gecex\", \"u89dw037b1\", \"rjd27\")"
   ]
  },
  {
   "cell_type": "code",
   "execution_count": 18,
   "id": "9bd30b88",
   "metadata": {},
   "outputs": [],
   "source": [
    "item_recente = pd.read_sql_query(\"select cod_produto item_code, min(nvl(p.dat_desembaraco, dat_di)) primeira_entrada \" +\n",
    "        \"from exp_invoice_it it, exp_invoice i, exp_procimp p \" +\n",
    "        \"where it.cod_empresa = i.cod_empresa \" +\n",
    "        \"and it.cod_filial = i.cod_filial \" + \n",
    "        \"and it.cod_documento = i.cod_documento \"+\n",
    "        \"and p.cod_empresa = i.cod_empresa \" +\n",
    "        \"and p.cod_filial = i.cod_filial \" +\n",
    "        \"and p.num_procimp = i.num_procimp \" +\n",
    "        \"having min(nvl(p.dat_desembaraco, dat_di)) > add_months(to_date(''' \"+ dt_base.strftime(\"01-%m-%Y\") +\" ''', '''dd-mm-yyyy'''), -12) \" + \n",
    "        \"group by cod_produto\" , db)"
   ]
  },
  {
   "cell_type": "code",
   "execution_count": 19,
   "id": "99578e3d",
   "metadata": {},
   "outputs": [],
   "source": [
    "# Encerrando conexão com banco de dados\n",
    "db.dispose()"
   ]
  },
  {
   "cell_type": "code",
   "execution_count": 20,
   "id": "8fa5b63e",
   "metadata": {},
   "outputs": [],
   "source": [
    "item_recente[\"meses\"] = ((dt_base - item_recente[\"primeira_entrada\"]).dt.days/30).astype(int)\n",
    "item_recente = item_recente.drop([\"primeira_entrada\"], axis = 1)\n",
    "item_recente.loc[item_recente[\"meses\"]==0, \"meses\"] = 1"
   ]
  },
  {
   "cell_type": "code",
   "execution_count": null,
   "id": "63b8113a",
   "metadata": {},
   "outputs": [],
   "source": [
    "item_recente.head(10)"
   ]
  },
  {
   "cell_type": "code",
   "execution_count": 21,
   "id": "7b538706",
   "metadata": {},
   "outputs": [],
   "source": [
    "# Abre conexão com base Oracle RJD28HST para recuperar venda por aeroporto\n",
    "db = conecta_oracle(\"CMD2022\", \"CmD2o24\", \"rjd28hst\")"
   ]
  },
  {
   "cell_type": "code",
   "execution_count": 22,
   "id": "41f3cede",
   "metadata": {},
   "outputs": [],
   "source": [
    "vnda_aerop = pd.read_sql_query(\"select substr(airport_code,4,3) airport, item_code, sum(units) sales \"+\n",
    "\"from sales_by_ticket_new \" +\n",
    "\"where real_sales_date between add_months(to_date('''\"+ dt_base.strftime(\"01-%m-%Y\") +\"''', '''dd-mm-yyyy'''), -12) and to_date('''\"+ dt_fim_mes +\"''', '''dd-mm-yyyy''') \" +\n",
    "\"and substr(airport_code,1,2) in ('BR', 'BD') \"+\n",
    "\"group by substr(airport_code,4,3) , item_code\", db)"
   ]
  },
  {
   "cell_type": "code",
   "execution_count": 23,
   "id": "b0c4ee39",
   "metadata": {},
   "outputs": [],
   "source": [
    "# Encerrando conexão com banco de dados\n",
    "db.dispose()"
   ]
  },
  {
   "cell_type": "code",
   "execution_count": 24,
   "id": "3d3ee40d",
   "metadata": {},
   "outputs": [],
   "source": [
    "vnda_aerop = vnda_aerop.merge(item_recente, on = \"item_code\", how = 'left')\n",
    "vnda_aerop[\"meses\"] = vnda_aerop[\"meses\"].fillna(12)\n",
    "vnda_aerop.loc[vnda_aerop[\"sales\"] < 0, \"sales\"] = 0\n",
    "vnda_aerop[\"sales\"] = round(vnda_aerop[\"sales\"]/vnda_aerop[\"meses\"],2)\n",
    "vnda_aerop = vnda_aerop.rename(columns={\"sales\": \"VM\"})"
   ]
  },
  {
   "cell_type": "code",
   "execution_count": null,
   "id": "2e78a168",
   "metadata": {},
   "outputs": [],
   "source": [
    "vnda_aerop.head(10)"
   ]
  },
  {
   "cell_type": "code",
   "execution_count": 25,
   "id": "46e84b0f",
   "metadata": {},
   "outputs": [],
   "source": [
    "saldo_aerop = saldo_aerop.merge(vnda_aerop, on = [\"item_code\", \"airport\"], how = 'left')\n",
    "saldo_aerop[\"VM\"] = saldo_aerop[\"VM\"].fillna(0)\n",
    "saldo_aerop = saldo_aerop.drop([\"meses\"], axis = 1)\n",
    "saldo_aerop[\"Perm\"] = round(saldo_aerop[\"Saldo\"] / saldo_aerop[\"VM\"], 2)\n",
    "saldo_aerop[\"Risco\"] = 0"
   ]
  },
  {
   "cell_type": "code",
   "execution_count": null,
   "id": "f6afbcd2",
   "metadata": {},
   "outputs": [],
   "source": [
    "saldo_aerop.head(10)"
   ]
  },
  {
   "cell_type": "code",
   "execution_count": 26,
   "id": "c7d0e593",
   "metadata": {},
   "outputs": [],
   "source": [
    "saldo_aerop = saldo_aerop.pivot(index = \"item_code\", columns= [\"airport\"], values=[\"Saldo\", \"VM\", \"Perm\", \"Risco\"]).reset_index()\n",
    "saldo_aerop = saldo_aerop.fillna(0)"
   ]
  },
  {
   "cell_type": "code",
   "execution_count": 27,
   "id": "f1f942b4",
   "metadata": {},
   "outputs": [],
   "source": [
    "det = [\"Saldo_\", \"VM_\", \"Perm_\", \"Risco_\"]\n",
    "colunas = [\"item_code\"]\n",
    "for d in det:\n",
    "    for a in aeroportos.sort_values():\n",
    "        colunas.append(d+a)"
   ]
  },
  {
   "cell_type": "code",
   "execution_count": null,
   "id": "3b2d1cc7",
   "metadata": {},
   "outputs": [],
   "source": [
    "colunas"
   ]
  },
  {
   "cell_type": "code",
   "execution_count": 28,
   "id": "80613b1e",
   "metadata": {},
   "outputs": [],
   "source": [
    "# Renomeadndo colunas do data Frame\n",
    "saldo_aerop.columns = colunas"
   ]
  },
  {
   "cell_type": "code",
   "execution_count": 29,
   "id": "46eeb6c2",
   "metadata": {},
   "outputs": [],
   "source": [
    "colunas = [\"item_code\"]\n",
    "for a in aeroportos:\n",
    "    for d in det:\n",
    "        colunas.append(d+a)"
   ]
  },
  {
   "cell_type": "code",
   "execution_count": 30,
   "id": "386283e4",
   "metadata": {},
   "outputs": [],
   "source": [
    "# Reordenando colunas do data Frame\n",
    "saldo_aerop = saldo_aerop[colunas]"
   ]
  },
  {
   "cell_type": "code",
   "execution_count": 31,
   "id": "4c3db4d5",
   "metadata": {},
   "outputs": [],
   "source": [
    "saldo_aerop = saldo_aerop.rename(columns={\"item_code\": \"Artigo\"})"
   ]
  },
  {
   "cell_type": "code",
   "execution_count": null,
   "id": "f886dd0e",
   "metadata": {},
   "outputs": [],
   "source": [
    "saldo_aerop.head()"
   ]
  },
  {
   "cell_type": "code",
   "execution_count": 32,
   "id": "dd6cf8b5",
   "metadata": {},
   "outputs": [],
   "source": [
    "del(vnda_aerop)"
   ]
  },
  {
   "cell_type": "code",
   "execution_count": 33,
   "id": "56c14346",
   "metadata": {},
   "outputs": [
    {
     "data": {
      "text/plain": [
       "Fecha proceso                 False\n",
       "Deposito                      False\n",
       "Fec.Inic Permanencia          False\n",
       "Fec. Impor.                    True\n",
       "Días Stock                    False\n",
       "Tester                        False\n",
       "Categoría                     False\n",
       "Marca                          True\n",
       "Articulo                      False\n",
       "Descripción                   False\n",
       "Saldo disponible calculado    False\n",
       "Valor Total disponible        False\n",
       "dtype: bool"
      ]
     },
     "execution_count": 33,
     "metadata": {},
     "output_type": "execute_result"
    }
   ],
   "source": [
    "base.isnull().any()"
   ]
  },
  {
   "cell_type": "code",
   "execution_count": 34,
   "id": "47a9a8d2",
   "metadata": {},
   "outputs": [],
   "source": [
    "base = base.loc[base[\"Fec.Inic Permanencia\"].notnull()]"
   ]
  },
  {
   "cell_type": "code",
   "execution_count": 35,
   "id": "87ac10e2",
   "metadata": {},
   "outputs": [],
   "source": [
    "base = base.loc[base[\"Valor Total disponible\"].notnull()]"
   ]
  },
  {
   "cell_type": "code",
   "execution_count": 36,
   "id": "1ef8fd0c",
   "metadata": {},
   "outputs": [],
   "source": [
    "base[\"Marca\"] = base[\"Marca\"].fillna(\"N/A\")"
   ]
  },
  {
   "cell_type": "code",
   "execution_count": 37,
   "id": "89252f93",
   "metadata": {},
   "outputs": [],
   "source": [
    "base[\"Empresa\"] = [\"DLF\" if i == 'DA17625216' else \"DDB\" for i in base[\"Deposito\"]]"
   ]
  },
  {
   "cell_type": "code",
   "execution_count": 38,
   "id": "0c811580",
   "metadata": {},
   "outputs": [],
   "source": [
    "base = base.drop(['Fecha proceso', 'Deposito'], axis = 1)"
   ]
  },
  {
   "cell_type": "code",
   "execution_count": 39,
   "id": "0aed8313",
   "metadata": {},
   "outputs": [],
   "source": [
    "base[\"Classificacao\"] = [\"FOR SALE\" if i == \"N\" else \"TTG\" for i in base[\"Tester\"]]"
   ]
  },
  {
   "cell_type": "code",
   "execution_count": 40,
   "id": "351f2430",
   "metadata": {},
   "outputs": [],
   "source": [
    "base[\"mes_inicio\"] = base[\"Fec.Inic Permanencia\"].dt.strftime(\"%Y%m\")"
   ]
  },
  {
   "cell_type": "code",
   "execution_count": 41,
   "id": "8ccbbf82",
   "metadata": {},
   "outputs": [],
   "source": [
    "base[\"Descripción\"] = base[\"Descripción\"].str.upper()"
   ]
  },
  {
   "cell_type": "code",
   "execution_count": 42,
   "id": "96803829",
   "metadata": {},
   "outputs": [],
   "source": [
    "base = base.drop(base.columns[0:4], axis = 1)"
   ]
  },
  {
   "cell_type": "code",
   "execution_count": null,
   "id": "52b6c4ac",
   "metadata": {},
   "outputs": [],
   "source": [
    "base.head(10)"
   ]
  },
  {
   "cell_type": "code",
   "execution_count": 43,
   "id": "659ddc16",
   "metadata": {},
   "outputs": [],
   "source": [
    "aging = base.groupby(by=[\"Empresa\",\"mes_inicio\",\"Categoría\",\"Marca\",\"Articulo\",\"Descripción\",\"Classificacao\"], as_index = False).sum()"
   ]
  },
  {
   "cell_type": "code",
   "execution_count": null,
   "id": "98dc36c2",
   "metadata": {},
   "outputs": [],
   "source": [
    "aging.head()"
   ]
  },
  {
   "cell_type": "code",
   "execution_count": 44,
   "id": "311dedb9",
   "metadata": {},
   "outputs": [],
   "source": [
    "aging.columns = [\"Empresa\", \"Mes_inicio\", \"Categoria\", \"Marca\", \"Artigo\",\"Descricao\", \"Classificacao\", \"Saldo_Vencer\", \"Valor_Vencer\"]"
   ]
  },
  {
   "cell_type": "code",
   "execution_count": 45,
   "id": "95e78e36",
   "metadata": {},
   "outputs": [],
   "source": [
    "aging[\"Artigo\"]=aging[\"Artigo\"].astype(str)"
   ]
  },
  {
   "cell_type": "code",
   "execution_count": 46,
   "id": "5b53e3db",
   "metadata": {},
   "outputs": [],
   "source": [
    "# buscando venda últimos 12 meses\n",
    "vm = pd.read_csv(str.replace(\"L12_BD&BR_Sales&DamageQty_Aging_MESREF.csv\", \"MESREF\", mes_ref), sep = \";\", encoding='latin1', usecols=[0,1,7,8])"
   ]
  },
  {
   "cell_type": "code",
   "execution_count": null,
   "id": "f44810b6",
   "metadata": {},
   "outputs": [],
   "source": [
    "vm.head(10)"
   ]
  },
  {
   "cell_type": "code",
   "execution_count": 47,
   "id": "654bb054",
   "metadata": {},
   "outputs": [],
   "source": [
    "vm = vm.merge(item_recente, left_on = \"LOCAL_ITEM_CODE\", right_on = \"item_code\", how = 'left')\n",
    "vm[\"meses\"] = vm[\"meses\"].fillna(12)\n",
    "vm = vm.drop([\"item_code\"], axis = 1)\n",
    "vm.loc[vm[\"SALES_QTY\"] < 0 , \"SALES_QTY\"] = 0"
   ]
  },
  {
   "cell_type": "code",
   "execution_count": 48,
   "id": "c6f35c9b",
   "metadata": {},
   "outputs": [],
   "source": [
    "vm[\"VMedia Mensal\"] = round(vm[\"SALES_QTY\"] /vm[\"meses\"], 2)\n",
    "vm[\"DESMedia Mensal\"] = round(vm[\"DAMAGE_QTY\"] / vm[\"meses\"], 2)\n",
    "vm[\"BU_CODE\"] = [\"DDB\" if i == 'BD' else \"DLF\" for i in vm[\"BU_CODE\"]]"
   ]
  },
  {
   "cell_type": "code",
   "execution_count": 49,
   "id": "6ca6eea0",
   "metadata": {},
   "outputs": [],
   "source": [
    "vm = vm.drop([\"SALES_QTY\", \"DAMAGE_QTY\", \"meses\"], axis=1)\n",
    "vm.columns= [\"Empresa\", \"Artigo\", \"VMedia Mensal\",\"DMedia Mensal\"]"
   ]
  },
  {
   "cell_type": "code",
   "execution_count": 50,
   "id": "4cf777d9",
   "metadata": {},
   "outputs": [],
   "source": [
    "del(item_recente)"
   ]
  },
  {
   "cell_type": "code",
   "execution_count": 51,
   "id": "966a87b5",
   "metadata": {},
   "outputs": [],
   "source": [
    "# montando df final\n",
    "aging= aging.merge(vm, on=[\"Empresa\", \"Artigo\"], how='left')"
   ]
  },
  {
   "cell_type": "code",
   "execution_count": null,
   "id": "26343acc",
   "metadata": {},
   "outputs": [],
   "source": [
    "aging.head(10)"
   ]
  },
  {
   "cell_type": "code",
   "execution_count": 52,
   "id": "75142b9d",
   "metadata": {},
   "outputs": [],
   "source": [
    "aging[\"VMedia Mensal\"] = aging[\"VMedia Mensal\"].fillna(0)\n",
    "aging[\"DMedia Mensal\"] = aging[\"DMedia Mensal\"].fillna(0)"
   ]
  },
  {
   "cell_type": "code",
   "execution_count": 53,
   "id": "a6053be4",
   "metadata": {},
   "outputs": [],
   "source": [
    "# Setando TTG como Tester ou GWP\n",
    "gwp = [\"BRINDE\", \"AMOSTRA\", \"GWP\", \"BRD \", \"GIFT\", \"BOLSAS TAG EUROPEAS\"]\n",
    "aging.loc[aging[\"Classificacao\"]==\"TTG\", \"Classificacao\"] = [\"GWP\" if any(w in c for w in gwp) else \"TTG\" for c in aging[aging[\"Classificacao\"]==\"TTG\"][\"Descricao\"] ]\n",
    "aging.loc[aging[\"Classificacao\"]==\"TTG\", \"Classificacao\"] = [\"GWP\" if m > 0 else \"TTG\" for m in aging[aging[\"Classificacao\"]==\"TTG\"][\"VMedia Mensal\"]]\n",
    "aging[\"Classificacao\"] = [\"TESTER\" if c == \"TTG\" else c for c in aging[\"Classificacao\"]]\n"
   ]
  },
  {
   "cell_type": "code",
   "execution_count": 54,
   "id": "6d8786d5",
   "metadata": {},
   "outputs": [
    {
     "data": {
      "text/plain": [
       "array(['FOR SALE', 'TESTER', 'GWP'], dtype=object)"
      ]
     },
     "execution_count": 54,
     "metadata": {},
     "output_type": "execute_result"
    }
   ],
   "source": [
    "aging[\"Classificacao\"].unique()"
   ]
  },
  {
   "cell_type": "code",
   "execution_count": 55,
   "id": "9a1ea356",
   "metadata": {},
   "outputs": [],
   "source": [
    "aging.loc[aging[\"Classificacao\"]==\"TESTER\", \"VMedia Mensal\"] = aging[aging[\"Classificacao\"]==\"TESTER\"][\"DMedia Mensal\"]\n",
    "aging = aging.drop(\"DMedia Mensal\", axis = 1)"
   ]
  },
  {
   "cell_type": "code",
   "execution_count": 56,
   "id": "6d862c48",
   "metadata": {},
   "outputs": [],
   "source": [
    "aging[\"mes_vencimento\"] = aging[\"Mes_inicio\"].astype(int) + 500"
   ]
  },
  {
   "cell_type": "code",
   "execution_count": 57,
   "id": "11c8a397",
   "metadata": {},
   "outputs": [],
   "source": [
    "aging[\"dt_mes_vencimento\"] = pd.to_datetime(aging[\"mes_vencimento\"], format=\"%Y%m\")"
   ]
  },
  {
   "cell_type": "code",
   "execution_count": 58,
   "id": "d71a3589",
   "metadata": {},
   "outputs": [],
   "source": [
    "aging[\"meses_para_vencer\"] = ((aging[\"dt_mes_vencimento\"] - dt_base).dt.days/30).astype(int)"
   ]
  },
  {
   "cell_type": "code",
   "execution_count": 59,
   "id": "d4984cc1",
   "metadata": {},
   "outputs": [],
   "source": [
    "aging[\"consumo_acumulado\"] = (aging[\"meses_para_vencer\"] * aging[\"VMedia Mensal\"]).astype(int)"
   ]
  },
  {
   "cell_type": "code",
   "execution_count": 60,
   "id": "58c9eef4",
   "metadata": {},
   "outputs": [],
   "source": [
    "aging[\"saldo_acumulado\"] = aging.groupby([\"Empresa\",\"Artigo\"])[\"Saldo_Vencer\"].cumsum()"
   ]
  },
  {
   "cell_type": "code",
   "execution_count": 61,
   "id": "ba97412e",
   "metadata": {},
   "outputs": [],
   "source": [
    "aging[\"perda_vencimento\"] = aging[\"saldo_acumulado\"] - aging[\"consumo_acumulado\"]"
   ]
  },
  {
   "cell_type": "code",
   "execution_count": 62,
   "id": "c118041f",
   "metadata": {},
   "outputs": [],
   "source": [
    "aging.sort_values(by=['Empresa','Artigo','mes_vencimento'], inplace=True)"
   ]
  },
  {
   "cell_type": "code",
   "execution_count": 63,
   "id": "42849cb3",
   "metadata": {},
   "outputs": [],
   "source": [
    "aging.reset_index(inplace = True)\n",
    "aging = aging.drop(['index'], axis = 1)"
   ]
  },
  {
   "cell_type": "code",
   "execution_count": 64,
   "id": "ce804db6",
   "metadata": {},
   "outputs": [],
   "source": [
    "# calculando saldo acumulado menos perda do periodo anterior\n",
    "aging[\"saldo_acumulado_menos_perda\"] = aging[\"perda_vencimento\"].shift()\n",
    "aging.loc[(aging[\"Empresa\"]+aging[\"Artigo\"] != aging[\"Empresa\"].shift()+aging[\"Artigo\"].shift()) , \"saldo_acumulado_menos_perda\"] = 0 \n",
    "aging.loc[aging[\"saldo_acumulado_menos_perda\"] < 0, \"saldo_acumulado_menos_perda\"] = 0 \n",
    "aging[\"saldo_acumulado_menos_perda\"] = aging[\"saldo_acumulado\"] - aging[\"saldo_acumulado_menos_perda\"]"
   ]
  },
  {
   "cell_type": "code",
   "execution_count": 65,
   "id": "aa6b8838",
   "metadata": {},
   "outputs": [],
   "source": [
    "aging[\"perda_vencimento\"] = aging[\"saldo_acumulado_menos_perda\"] - aging[\"consumo_acumulado\"]"
   ]
  },
  {
   "cell_type": "code",
   "execution_count": 66,
   "id": "cb4a6224",
   "metadata": {},
   "outputs": [],
   "source": [
    "aging.loc[aging[\"perda_vencimento\"] < 0, \"perda_vencimento\"] = 0"
   ]
  },
  {
   "cell_type": "code",
   "execution_count": 67,
   "id": "25b8c67d",
   "metadata": {},
   "outputs": [],
   "source": [
    "aging[\"risco\"] = [\"SIM\" if p > 0 else \"NAO\" for p in aging[\"perda_vencimento\"] ]"
   ]
  },
  {
   "cell_type": "code",
   "execution_count": 68,
   "id": "c41925db",
   "metadata": {},
   "outputs": [],
   "source": [
    "aging[\"vl_risco\"] = aging[\"perda_vencimento\"] * (aging[\"Valor_Vencer\"]/aging[\"Saldo_Vencer\"])"
   ]
  },
  {
   "cell_type": "code",
   "execution_count": 69,
   "id": "0a753b98",
   "metadata": {},
   "outputs": [],
   "source": [
    "# computando Totais\n",
    "aging_total = aging.groupby(by=[\"Empresa\",\"Classificacao\",\"mes_vencimento\"], as_index = False)[\"vl_risco\"].sum()\n",
    "aging_total.columns = [\"Empresa\", \"Classificacao\", \"Vencimento\", \"Valor Risco\"]"
   ]
  },
  {
   "cell_type": "code",
   "execution_count": null,
   "id": "2d9b87e7",
   "metadata": {},
   "outputs": [],
   "source": [
    "aging_total"
   ]
  },
  {
   "cell_type": "code",
   "execution_count": 70,
   "id": "12f045bb",
   "metadata": {},
   "outputs": [],
   "source": [
    "aging_total.sort_values(by = ['Classificacao', 'Empresa', 'Vencimento'], inplace = True, ignore_index = True)"
   ]
  },
  {
   "cell_type": "code",
   "execution_count": 71,
   "id": "f30c74e8",
   "metadata": {},
   "outputs": [],
   "source": [
    "aging_total[\"Valor Risco\"] = aging_total[\"Valor Risco\"].astype(int)"
   ]
  },
  {
   "cell_type": "code",
   "execution_count": 72,
   "id": "5f8e4386",
   "metadata": {},
   "outputs": [],
   "source": [
    "aging_total = aging_total.pivot_table(index=\"Vencimento\", columns= [\"Classificacao\", \"Empresa\"], values=\"Valor Risco\", fill_value = 0).reset_index()"
   ]
  },
  {
   "cell_type": "code",
   "execution_count": 73,
   "id": "1c82a741",
   "metadata": {},
   "outputs": [],
   "source": [
    "# Totalizadores por classificação\n",
    "qtde_classificacoes = len(aging[\"Classificacao\"].unique())\n",
    "for c in range(1, qtde_classificacoes+1):\n",
    "    aging_total['TOT '+ aging_total.columns[c+(c-1)][0]] = aging_total.iloc[:, c+(c-1) : c+(c-1)+2].sum(axis = 1)"
   ]
  },
  {
   "cell_type": "code",
   "execution_count": 74,
   "id": "7f12ff10",
   "metadata": {},
   "outputs": [],
   "source": [
    "aging_total['TOTAL'] = aging_total.iloc[:, (qtde_classificacoes*2)+1 : (qtde_classificacoes*3)+2].sum(axis = 1)"
   ]
  },
  {
   "cell_type": "code",
   "execution_count": 75,
   "id": "03c7bdc8",
   "metadata": {},
   "outputs": [
    {
     "data": {
      "text/plain": [
       "MultiIndex([(    'FOR SALE', 'DDB'),\n",
       "            (    'FOR SALE', 'DLF'),\n",
       "            (         'GWP', 'DDB'),\n",
       "            (         'GWP', 'DLF'),\n",
       "            (      'TESTER', 'DDB'),\n",
       "            (      'TESTER', 'DLF'),\n",
       "            ('TOT FOR SALE',    ''),\n",
       "            (     'TOT GWP',    ''),\n",
       "            (  'TOT TESTER',    ''),\n",
       "            (       'TOTAL',    '')],\n",
       "           names=['Classificacao', 'Empresa'])"
      ]
     },
     "execution_count": 75,
     "metadata": {},
     "output_type": "execute_result"
    }
   ],
   "source": [
    "aging_total.columns[1:len(aging_total)+1]"
   ]
  },
  {
   "cell_type": "code",
   "execution_count": null,
   "id": "596e09fa",
   "metadata": {},
   "outputs": [],
   "source": [
    "aging_total.columns[1][0]"
   ]
  },
  {
   "cell_type": "code",
   "execution_count": 76,
   "id": "6a4f93ba",
   "metadata": {},
   "outputs": [],
   "source": [
    "# Totalizadores por categoria\n",
    "total_cat = aging.groupby(by=[\"Categoria\",\"mes_vencimento\"], as_index = False)[\"vl_risco\"].sum()\n",
    "total_cat.columns = [\"Categoria\", \"Vencimento\", \"Valor Risco\"]\n",
    "total_cat[\"Valor Risco\"] = total_cat[\"Valor Risco\"].astype(int)"
   ]
  },
  {
   "cell_type": "code",
   "execution_count": 77,
   "id": "0be09548",
   "metadata": {},
   "outputs": [],
   "source": [
    "total_cat = total_cat.pivot_table(index=\"Vencimento\", columns= [\"Categoria\"], values=\"Valor Risco\", fill_value = 0).reset_index()"
   ]
  },
  {
   "cell_type": "code",
   "execution_count": 78,
   "id": "3c6859e6",
   "metadata": {},
   "outputs": [],
   "source": [
    "total_cat[\"TOTAL\"] = total_cat.iloc[:, 1:len(total_cat.axes[1])+1].sum(axis = 1)"
   ]
  },
  {
   "cell_type": "code",
   "execution_count": null,
   "id": "a36e8c6f",
   "metadata": {},
   "outputs": [],
   "source": [
    "total_cat"
   ]
  },
  {
   "cell_type": "code",
   "execution_count": 79,
   "id": "c97fd961",
   "metadata": {},
   "outputs": [],
   "source": [
    "# Acrescentando saldo por aeroporto\n",
    "aging = aging.merge(saldo_aerop, on=[\"Artigo\"], how='left')\n",
    "aging.sort_values(by = [\"Empresa\", \"Artigo\"], inplace = True, ignore_index = True)\n",
    "aging = aging.drop([\"dt_mes_vencimento\"], axis = 1)"
   ]
  },
  {
   "cell_type": "code",
   "execution_count": null,
   "id": "02b69794",
   "metadata": {},
   "outputs": [],
   "source": [
    "# se aeroporto_principal\n",
    "#   risco = menor(saldo_aerop, saldo_acumulado) - (vm_aerop * meses_vencer)\n",
    "\n",
    "# senao\n",
    "#   se vm_principal * meses_vencer < saldo_acumulado ou saldo_principal < saldo_acumulado entao -- principal nao vai conseguir vender todo saldo a vencer, tem que calcular risco saldo filial\n",
    "#      risco = menor(saldo_filial, saldo_acumulado-(menor(vm_princial*meses_vencer, saldo_principal))) - (vm_filial * meses_vencer)\n",
    "\n",
    "# se risco < 0 entao risco = 0"
   ]
  },
  {
   "cell_type": "code",
   "execution_count": 80,
   "id": "cf5b038d",
   "metadata": {},
   "outputs": [],
   "source": [
    "# Calculo Risco aeroportos\n",
    "aeroportos_ddb = [\"BSB\",\"CNF\",\"FOR\",\"GIG\",\"NAT\",\"REC\"]\n",
    "principal_ddb = aeroportos.get_loc(\"GIG\")\n",
    "principal_dlf = aeroportos.get_loc(\"GRU\")\n",
    "aerop_indx = 0"
   ]
  },
  {
   "cell_type": "code",
   "execution_count": 81,
   "id": "84d88b13",
   "metadata": {},
   "outputs": [],
   "source": [
    "def condicoes(r):\n",
    "    if r[\"Empresa\"] == \"DDB\":\n",
    "        if ((((r[aging.columns[((principal_ddb-1)*4)+19]] * r[\"meses_para_vencer\"]) < r[\"saldo_acumulado\"]) | (r[aging.columns[((principal_ddb-1)*4)+18]] < r[\"saldo_acumulado\"])) & (aeroportos[aerop_indx] in aeroportos_ddb)):\n",
    "            return min(r[aging.columns[((i-1)*4)+18]], (r[\"saldo_acumulado\"]-min((r[aging.columns[((principal_ddb-1)*4)+19]] * r[\"meses_para_vencer\"]) , r[aging.columns[((principal_ddb-1)*4)+18]]))) - (r[aging.columns[((aerop_indx-1)*4)+19]] * r[\"meses_para_vencer\"])\n",
    "        else: \n",
    "            return 0\n",
    "    elif r[\"Empresa\"] == \"DLF\":   \n",
    "        if ((((r[aging.columns[((principal_dlf-1)*4)+19]] * r[\"meses_para_vencer\"]) < r[\"saldo_acumulado\"]) | (r[aging.columns[((principal_dlf-1)*4)+18]] < r[\"saldo_acumulado\"])) &  ( aeroportos[aerop_indx] not in aeroportos_ddb)):\n",
    "            return min(r[aging.columns[((i-1)*4)+18]], (r[\"saldo_acumulado\"]-min((r[aging.columns[((principal_dlf-1)*4)+19]] * r[\"meses_para_vencer\"]) , r[aging.columns[((principal_dlf-1)*4)+18]]))) - (r[aging.columns[((aerop_indx-1)*4)+19]] * r[\"meses_para_vencer\"])\n",
    "        else: \n",
    "            return 0"
   ]
  },
  {
   "cell_type": "code",
   "execution_count": 82,
   "id": "88344767",
   "metadata": {},
   "outputs": [],
   "source": [
    "for i in range(1, aeroportos.size):\n",
    "    aerop_indx = i\n",
    "    if ((i == principal_ddb) | (i == principal_dlf)):\n",
    "        aging[aging.columns[i*4+17]] = np.where(((aging[\"Empresa\"]=='DDB') & (aerop_indx == principal_ddb) ) | ((aging[\"Empresa\"]=='DLF') & (aerop_indx == principal_dlf) ), np.where(aging[aging.columns[((i-1)*4)+18]] < aging[\"saldo_acumulado\"], aging[aging.columns[((i-1)*4)+18]], aging[\"saldo_acumulado\"] ) - (aging[aging.columns[((i-1)*4)+19]] * aging[\"meses_para_vencer\"]),aging[aging.columns[i*4+17]])\n",
    "    else:\n",
    "        # se aerop principal não vai conseguir vender todo saldo a vencer, então calcula risco saldo filial\n",
    "        aging[aging.columns[i*4+17]] = aging.apply(condicoes, axis=1)\n",
    "    aging.loc[aging[aging.columns[i*4+17]] < 0, aging.columns[i*4+17]] = 0"
   ]
  },
  {
   "cell_type": "code",
   "execution_count": 83,
   "id": "704f8d48",
   "metadata": {},
   "outputs": [],
   "source": [
    "with pd.ExcelWriter('Aging_DF_MESREF.xlsx'.replace('MESREF', mes_ref)) as writer:\n",
    "    aging.to_excel(writer, sheet_name = 'Detail')\n",
    "    aging_total.to_excel(writer, sheet_name = 'Total Risk')\n",
    "    total_cat.to_excel(writer, sheet_name = 'Total Category')"
   ]
  },
  {
   "cell_type": "code",
   "execution_count": null,
   "id": "aa91832a",
   "metadata": {},
   "outputs": [],
   "source": [
    "#FIM"
   ]
  },
  {
   "cell_type": "code",
   "execution_count": null,
   "id": "abfee64a",
   "metadata": {},
   "outputs": [],
   "source": [
    "for i in range(1, aeroportos.size):\n",
    "    aging[aging.columns[i*4+17]] = 0"
   ]
  },
  {
   "cell_type": "code",
   "execution_count": null,
   "id": "916a403a",
   "metadata": {},
   "outputs": [],
   "source": [
    "aging.loc[aging[\"Empresa\"]==\"DDB\", \"Risco_FLN\"].sum()"
   ]
  },
  {
   "cell_type": "code",
   "execution_count": null,
   "id": "fa9b235b",
   "metadata": {},
   "outputs": [],
   "source": [
    "aging.columns"
   ]
  },
  {
   "cell_type": "code",
   "execution_count": null,
   "id": "de88e294",
   "metadata": {},
   "outputs": [],
   "source": [
    "aging_total.to_excel('aging_py.xlsx')"
   ]
  },
  {
   "cell_type": "code",
   "execution_count": null,
   "id": "15248203",
   "metadata": {},
   "outputs": [],
   "source": [
    "aging.to_excel('aging_pyton.xlsx')"
   ]
  },
  {
   "cell_type": "code",
   "execution_count": null,
   "id": "1e4fcd87",
   "metadata": {},
   "outputs": [],
   "source": [
    "aging.loc[aging[\"Artigo\"]==\"2012734\"]"
   ]
  },
  {
   "cell_type": "code",
   "execution_count": null,
   "id": "c5864800",
   "metadata": {},
   "outputs": [],
   "source": [
    "aeroportos.get_loc(\"GIG\")"
   ]
  },
  {
   "cell_type": "code",
   "execution_count": null,
   "id": "bd1a1568",
   "metadata": {},
   "outputs": [],
   "source": [
    "str(aging[\"mes_vencimento\"])"
   ]
  },
  {
   "cell_type": "code",
   "execution_count": null,
   "id": "570190c0",
   "metadata": {},
   "outputs": [],
   "source": [
    "aging.apply(lambda row : row.shift(), axis = 0)"
   ]
  },
  {
   "cell_type": "code",
   "execution_count": null,
   "id": "49741330",
   "metadata": {},
   "outputs": [],
   "source": [
    "saldo_aerop.loc[saldo_aerop[\"airport\"] == 'BSB'][\"Saldo\"].sum()"
   ]
  },
  {
   "cell_type": "code",
   "execution_count": null,
   "id": "9b13dba6",
   "metadata": {},
   "outputs": [],
   "source": [
    "aging[\"Saldo_Vencer\"].sum()"
   ]
  },
  {
   "cell_type": "code",
   "execution_count": null,
   "id": "edd5c836",
   "metadata": {},
   "outputs": [],
   "source": [
    "aging_total[\"TOTAL\"].sum()"
   ]
  },
  {
   "cell_type": "code",
   "execution_count": null,
   "id": "c5b8d4ec",
   "metadata": {},
   "outputs": [],
   "source": [
    "aging[\"vl_risco\"].sum()"
   ]
  },
  {
   "cell_type": "code",
   "execution_count": null,
   "id": "27b6875c",
   "metadata": {},
   "outputs": [],
   "source": [
    "total_cat[\"TOTAL\"].sum()"
   ]
  },
  {
   "cell_type": "code",
   "execution_count": null,
   "id": "c6999a0d",
   "metadata": {},
   "outputs": [],
   "source": [
    "type(aeroportos_ddb)"
   ]
  },
  {
   "cell_type": "code",
   "execution_count": null,
   "id": "dcc609f4",
   "metadata": {},
   "outputs": [],
   "source": [
    "aging[aging.columns[i*4+17]] = np.where(((aging[\"Empresa\"]=='DDB') & (aeroportos[i] == principal_ddb) ) | ((aging[\"Empresa\"]=='DLF') & (aeroportos[i] == principal_dlf) ), np.where(aging[aging.columns[((i-1)*4)+18]] < aging[\"saldo_acumulado\"], aging[aging.columns[((i-1)*4)+18]], aging[\"saldo_acumulado\"] ) - (aging[aging.columns[((i-1)*4)+19]] * aging[\"meses_para_vencer\"]),aging[aging.columns[i*4+17]])"
   ]
  },
  {
   "cell_type": "code",
   "execution_count": null,
   "id": "13d6bb17",
   "metadata": {},
   "outputs": [],
   "source": [
    "principal_ddb"
   ]
  },
  {
   "cell_type": "code",
   "execution_count": null,
   "id": "4c66b521",
   "metadata": {},
   "outputs": [],
   "source": [
    "base[\"Valor Total disponible\"].sum()"
   ]
  },
  {
   "cell_type": "code",
   "execution_count": null,
   "id": "5b09aaf9",
   "metadata": {},
   "outputs": [],
   "source": [
    "base.columns"
   ]
  },
  {
   "cell_type": "code",
   "execution_count": null,
   "id": "367ef34b",
   "metadata": {},
   "outputs": [],
   "source": [
    "base.loc[base[\"Deposito\"] != 'DA17625216'][\"Saldo disponible calculado\"].sum()"
   ]
  },
  {
   "cell_type": "code",
   "execution_count": null,
   "id": "6148d8ea",
   "metadata": {},
   "outputs": [],
   "source": [
    "base.loc[base[\"Articulo\"] == 1009480]"
   ]
  },
  {
   "cell_type": "code",
   "execution_count": null,
   "id": "a2abfc2e",
   "metadata": {},
   "outputs": [],
   "source": [
    "base.loc[base[\"Deposito\"] != 'DA17625216']"
   ]
  },
  {
   "cell_type": "code",
   "execution_count": null,
   "id": "10638021",
   "metadata": {},
   "outputs": [],
   "source": [
    "teste = pd.read_excel('INPEREBF_BD_2310.xlsx')"
   ]
  },
  {
   "cell_type": "code",
   "execution_count": null,
   "id": "66bac790",
   "metadata": {},
   "outputs": [],
   "source": [
    "teste[\"Valor Total disponible\"].sum()"
   ]
  },
  {
   "cell_type": "code",
   "execution_count": null,
   "id": "c711d723",
   "metadata": {},
   "outputs": [],
   "source": [
    "teste = teste[(teste[\"Saldo disponible calculado\"]).notnull() & teste[\"Saldo disponible calculado\"] > 0 & (teste[\"Fec.Inic Permanencia\"]).notnull()]"
   ]
  },
  {
   "cell_type": "code",
   "execution_count": null,
   "id": "d96bc4aa",
   "metadata": {},
   "outputs": [],
   "source": [
    "testeb = teste[(teste[\"Saldo disponible calculado\"]).notnull() & (teste[\"Fec.Inic Permanencia\"]).notnull()]"
   ]
  },
  {
   "cell_type": "code",
   "execution_count": null,
   "id": "7c3e04b1",
   "metadata": {},
   "outputs": [],
   "source": [
    "testeb[\"Valor Total disponible\"].sum()"
   ]
  },
  {
   "cell_type": "code",
   "execution_count": null,
   "id": "3fdecd2e",
   "metadata": {},
   "outputs": [],
   "source": [
    "testeb = testeb[testeb[\"Saldo disponible calculado\"] > 0]"
   ]
  },
  {
   "cell_type": "code",
   "execution_count": null,
   "id": "361e567f",
   "metadata": {},
   "outputs": [],
   "source": [
    "base.loc[base[\"Deposito\"] == 'FR17625216']"
   ]
  },
  {
   "cell_type": "code",
   "execution_count": null,
   "id": "48606682",
   "metadata": {},
   "outputs": [],
   "source": [
    "base[\"Deposito\"].unique()"
   ]
  },
  {
   "cell_type": "code",
   "execution_count": null,
   "id": "5bc47b9b",
   "metadata": {},
   "outputs": [],
   "source": []
  }
 ],
 "metadata": {
  "kernelspec": {
   "display_name": "Python 3 (ipykernel)",
   "language": "python",
   "name": "python3"
  },
  "language_info": {
   "codemirror_mode": {
    "name": "ipython",
    "version": 3
   },
   "file_extension": ".py",
   "mimetype": "text/x-python",
   "name": "python",
   "nbconvert_exporter": "python",
   "pygments_lexer": "ipython3",
   "version": "3.10.9"
  }
 },
 "nbformat": 4,
 "nbformat_minor": 5
}
