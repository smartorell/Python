{
 "cells": [
  {
   "cell_type": "code",
   "execution_count": 1,
   "id": "ad5eb328",
   "metadata": {},
   "outputs": [],
   "source": [
    "import os, glob, oracledb\n",
    "from sqlalchemy import create_engine\n",
    "# Path TNSNAMES\n",
    "oracledb.init_oracle_client(config_dir='C:\\Oracle\\instantclient_21_10\\network\\admin')"
   ]
  },
  {
   "cell_type": "code",
   "execution_count": null,
   "id": "a4198ac4",
   "metadata": {},
   "outputs": [],
   "source": []
  },
  {
   "cell_type": "code",
   "execution_count": 3,
   "id": "94d1d9a6",
   "metadata": {},
   "outputs": [],
   "source": [
    "import shutil"
   ]
  },
  {
   "cell_type": "code",
   "execution_count": 7,
   "id": "33b74220",
   "metadata": {},
   "outputs": [],
   "source": [
    "origem = r'Y:\\Reports\\GFDAFIAR'\n",
    "destino = r'C:\\Users\\silmao\\Downloads'\n",
    "os.chdir(r'C:\\Users\\silmao\\Downloads')"
   ]
  },
  {
   "cell_type": "code",
   "execution_count": null,
   "id": "ad0a8031",
   "metadata": {},
   "outputs": [],
   "source": [
    "pysqldf = lambda q: sqldf(q, globals())"
   ]
  },
  {
   "cell_type": "code",
   "execution_count": 9,
   "id": "7f830d3a",
   "metadata": {},
   "outputs": [],
   "source": [
    "import pandas as pd\n",
    "import datetime as dt\n",
    "import pandasql\n",
    "import numpy as np\n",
    "from datetime import datetime\n",
    "from pandasql import sqldf"
   ]
  },
  {
   "cell_type": "code",
   "execution_count": 11,
   "id": "d66ffe7f",
   "metadata": {},
   "outputs": [
    {
     "ename": "AttributeError",
     "evalue": "module 'pandas' has no attribute 'version'",
     "output_type": "error",
     "traceback": [
      "\u001b[1;31m---------------------------------------------------------------------------\u001b[0m",
      "\u001b[1;31mAttributeError\u001b[0m                            Traceback (most recent call last)",
      "Cell \u001b[1;32mIn[11], line 1\u001b[0m\n\u001b[1;32m----> 1\u001b[0m \u001b[43mpd\u001b[49m\u001b[38;5;241;43m.\u001b[39;49m\u001b[43mversion\u001b[49m\n",
      "File \u001b[1;32m~\\AppData\\Local\\anaconda3\\lib\\site-packages\\pandas\\__init__.py:264\u001b[0m, in \u001b[0;36m__getattr__\u001b[1;34m(name)\u001b[0m\n\u001b[0;32m    260\u001b[0m     \u001b[38;5;28;01mfrom\u001b[39;00m \u001b[38;5;21;01mpandas\u001b[39;00m\u001b[38;5;21;01m.\u001b[39;00m\u001b[38;5;21;01mcore\u001b[39;00m\u001b[38;5;21;01m.\u001b[39;00m\u001b[38;5;21;01marrays\u001b[39;00m\u001b[38;5;21;01m.\u001b[39;00m\u001b[38;5;21;01msparse\u001b[39;00m \u001b[38;5;28;01mimport\u001b[39;00m SparseArray \u001b[38;5;28;01mas\u001b[39;00m _SparseArray\n\u001b[0;32m    262\u001b[0m     \u001b[38;5;28;01mreturn\u001b[39;00m _SparseArray\n\u001b[1;32m--> 264\u001b[0m \u001b[38;5;28;01mraise\u001b[39;00m \u001b[38;5;167;01mAttributeError\u001b[39;00m(\u001b[38;5;124mf\u001b[39m\u001b[38;5;124m\"\u001b[39m\u001b[38;5;124mmodule \u001b[39m\u001b[38;5;124m'\u001b[39m\u001b[38;5;124mpandas\u001b[39m\u001b[38;5;124m'\u001b[39m\u001b[38;5;124m has no attribute \u001b[39m\u001b[38;5;124m'\u001b[39m\u001b[38;5;132;01m{\u001b[39;00mname\u001b[38;5;132;01m}\u001b[39;00m\u001b[38;5;124m'\u001b[39m\u001b[38;5;124m\"\u001b[39m)\n",
      "\u001b[1;31mAttributeError\u001b[0m: module 'pandas' has no attribute 'version'"
     ]
    }
   ],
   "source": [
    "pd.version"
   ]
  },
  {
   "cell_type": "code",
   "execution_count": null,
   "id": "389f7373",
   "metadata": {},
   "outputs": [],
   "source": [
    "# Conectando base Oracle\n",
    "def conecta_oracle(usu, senha, sid):\n",
    "    #conn = oracledb.connect(user = usu, password = senha, dsn = sid)\n",
    "    engine = create_engine('oracle+cx_oracle://'+usu+':'+senha+'@'+sid)\n",
    "    return engine"
   ]
  },
  {
   "cell_type": "code",
   "execution_count": 8,
   "id": "a07e644e",
   "metadata": {},
   "outputs": [
    {
     "data": {
      "text/plain": [
       "'C:\\\\Users\\\\silmao\\\\Downloads\\\\GFDAFIAR-BF.ZIP'"
      ]
     },
     "execution_count": 8,
     "metadata": {},
     "output_type": "execute_result"
    }
   ],
   "source": [
    "shutil.copy(origem+'\\GFDAFIAR-BF.ZIP', destino)"
   ]
  },
  {
   "cell_type": "code",
   "execution_count": null,
   "id": "58d1c7f1",
   "metadata": {},
   "outputs": [],
   "source": [
    "shutil.copy(r'Y:\\Reports\\GFDAFIAR\\GFDAFIAR-BF.ZIP', r'C:\\Users\\silmao\\Downloads')"
   ]
  },
  {
   "cell_type": "code",
   "execution_count": null,
   "id": "f3079ce9",
   "metadata": {},
   "outputs": [],
   "source": [
    "#Leitura arquivos GFDAFIAR Gamma"
   ]
  },
  {
   "cell_type": "code",
   "execution_count": null,
   "id": "bfd09e1d",
   "metadata": {},
   "outputs": [],
   "source": [
    "lista_arquivos = [f for f in os.listdir('.') if (f.startswith(\"GFDAFIAR-BD\") | f.startswith(\"GFDAFIAR-BR\")) & f.endswith(\".ZIP\")]"
   ]
  },
  {
   "cell_type": "code",
   "execution_count": null,
   "id": "07536e25",
   "metadata": {},
   "outputs": [],
   "source": [
    "lista_arquivos"
   ]
  },
  {
   "cell_type": "code",
   "execution_count": null,
   "id": "9899d802",
   "metadata": {},
   "outputs": [],
   "source": [
    "import zipfile\n",
    "import shutil"
   ]
  },
  {
   "cell_type": "code",
   "execution_count": null,
   "id": "1c01b31f",
   "metadata": {},
   "outputs": [],
   "source": [
    "# dezipar cada um dos arquivos\n",
    "for f in lista_arquivos:\n",
    "    shutil.copy2(origem+'\\\\'+f, destino)"
   ]
  },
  {
   "cell_type": "code",
   "execution_count": null,
   "id": "7ee9ae77",
   "metadata": {},
   "outputs": [],
   "source": [
    "file = destino+'\\\\'+lista_arquivos[1]"
   ]
  },
  {
   "cell_type": "code",
   "execution_count": null,
   "id": "4abd8d10",
   "metadata": {},
   "outputs": [],
   "source": [
    "with zipfile.ZipFile(file, 'r') as zip_ref:\n",
    "    zip_ref.extractall(destino)"
   ]
  },
  {
   "cell_type": "code",
   "execution_count": null,
   "id": "47da3024",
   "metadata": {},
   "outputs": [],
   "source": [
    "with zipfile.ZipFile(file, 'r') as zip_ref:\n",
    "    #zip_ref.extractall() \n",
    "    with zip_ref.open(zip_ref.namelist()[0]) as arq:\n",
    "        temp = pd.read_csv(arq, sep=';', encoding='unicode_escape')\n"
   ]
  },
  {
   "cell_type": "code",
   "execution_count": null,
   "id": "db1a0c4e",
   "metadata": {},
   "outputs": [],
   "source": [
    "zip_ref.namelist()[0]"
   ]
  },
  {
   "cell_type": "code",
   "execution_count": null,
   "id": "c70b4c0a",
   "metadata": {},
   "outputs": [],
   "source": []
  },
  {
   "cell_type": "code",
   "execution_count": null,
   "id": "73b2368c",
   "metadata": {},
   "outputs": [],
   "source": [
    "data = pd.read_csv(r\"C:\\Users\\silmao\\Downloads\\Informes\\IN01\\SV431-305H0306584-new.CSV\", encoding='unicode_escape', on_bad_lines='skip')"
   ]
  },
  {
   "cell_type": "code",
   "execution_count": null,
   "id": "18d95174",
   "metadata": {},
   "outputs": [],
   "source": [
    "data = open(r\"C:\\Users\\silmao\\Downloads\\Informes\\IN01\\SV431-305H0306584-new.CSV\").read()"
   ]
  },
  {
   "cell_type": "code",
   "execution_count": null,
   "id": "19d67daf",
   "metadata": {},
   "outputs": [],
   "source": [
    "new_data = data.replace('\"','')"
   ]
  },
  {
   "cell_type": "code",
   "execution_count": null,
   "id": "96588073",
   "metadata": {},
   "outputs": [],
   "source": [
    "open('mod.CSV', 'w').write(new_data)"
   ]
  },
  {
   "cell_type": "code",
   "execution_count": null,
   "id": "2da96901",
   "metadata": {},
   "outputs": [],
   "source": [
    "teste = pd.read_csv(\"mod.csv\", sep=';', encoding='unicode_escape')"
   ]
  },
  {
   "cell_type": "code",
   "execution_count": null,
   "id": "dacb5a5d",
   "metadata": {},
   "outputs": [],
   "source": [
    "teste.head(10)"
   ]
  },
  {
   "cell_type": "code",
   "execution_count": null,
   "id": "3f737459",
   "metadata": {},
   "outputs": [],
   "source": [
    "# Recupera informações DIs registradas"
   ]
  },
  {
   "cell_type": "code",
   "execution_count": null,
   "id": "f15f0781",
   "metadata": {},
   "outputs": [],
   "source": [
    "# Abre conexão com base Oracle RJD27 para recuperar data primeiro recebimento anterior a 1 ano\n",
    "db = conecta_oracle(\"gecex\", \"u89dw037b1\", \"rjd27\")"
   ]
  },
  {
   "cell_type": "code",
   "execution_count": null,
   "id": "638560a9",
   "metadata": {},
   "outputs": [],
   "source": [
    "di = pd.read_sql_query(\n",
    "    \"select p.cod_produto, pd.des_produto, p.cod_ncm ncm_atual, \" +\n",
    "    \"decode(di.cod_empresa, '10', 'DLF', '20', 'DDB') empresa, \" +\n",
    "    \"decode(di.cod_empresa, '10', decode(di.cod_filial, '10', 'SP', 'URU'), 'RJ') filial, \" +\n",
    "    \"decode(di.cod_natoper, 1, 'IOS', 2, 'INTERCOMPANY', 3, 'CAMBIAL') natureza, di.num_procimp embarque, \" +\n",
    "    \"di.dat_di, di.num_di , \" +\n",
    "    \"ii.cod_ncm ncm_di, \" +\n",
    "    \"pi.qtd_pecas, pi.pre_unit, pi.pre_total, \" +\n",
    "    \"DECODE(di.canal_parametriz, 1, 'VERDE', 2, 'AMARELO', 3, 'VERMELHO', di.canal_parametriz) CANAL, \" +\n",
    "    \"di.dat_desembaraco, di.num_conhec_master, di.num_conhec, di.num_manifesto, di.tax_cambio, \" +\n",
    "    \"pi.val_frete, pi.pes_liquido, pi.pes_bruto, pi.num_adicao \" +  \n",
    "    \"from exp_produto p, exp_produto_descri pd, exp_procimp di, exp_invoice i, exp_invoice_it ii, exp_procimp_item pi \" +\n",
    "    \"where p.cod_empresa = '30' \" +\n",
    "    \"and di.num_di is not null \" +\n",
    "    \"and pd.cod_empresa = p.cod_empresa \" +\n",
    "    \"and pd.cod_filial = p.cod_filial \" +\n",
    "    \"and pd.cod_produto = p.cod_produto \" +\n",
    "    \"and pd.utilizacao = 'D' \" + \n",
    "    \"and ii.cod_produto = p.cod_produto \" +\n",
    "    \"and ii.cod_empresa = i.cod_empresa \" +\n",
    "    \"and ii.cod_filial = i.cod_filial \" +\n",
    "    \"and ii.cod_documento = i.cod_documento \" +\n",
    "    \"and di.cod_empresa = i.cod_empresa \" +\n",
    "    \"and di.cod_filial = i.cod_filial \" +\n",
    "    \"and di.num_procimp = i.num_procimp \" +\n",
    "    \"and pi.cod_empresa = di.cod_empresa \" +\n",
    "    \"and pi.cod_filial = di.cod_filial \" +\n",
    "    \"and pi.num_procimp = di.num_procimp \" +\n",
    "    \"and pi.cod_documento = ii.cod_documento \" +\n",
    "    \"and pi.seq_item_invoice = ii.seq_item_invoice \" +\n",
    "    \"order by di.dat_status_proc\""
   ]
  },
  {
   "cell_type": "code",
   "execution_count": null,
   "id": "a9cde0ae",
   "metadata": {},
   "outputs": [],
   "source": [
    "# Encerrando conexão com banco de dados\n",
    "db.dispose()"
   ]
  },
  {
   "cell_type": "code",
   "execution_count": null,
   "id": "94db654f",
   "metadata": {},
   "outputs": [],
   "source": [
    "type(file)"
   ]
  },
  {
   "cell_type": "code",
   "execution_count": null,
   "id": "9b61b571",
   "metadata": {},
   "outputs": [],
   "source": [
    "print(file)"
   ]
  },
  {
   "cell_type": "code",
   "execution_count": null,
   "id": "3b0cacdf",
   "metadata": {},
   "outputs": [],
   "source": []
  }
 ],
 "metadata": {
  "kernelspec": {
   "display_name": "Python 3 (ipykernel)",
   "language": "python",
   "name": "python3"
  },
  "language_info": {
   "codemirror_mode": {
    "name": "ipython",
    "version": 3
   },
   "file_extension": ".py",
   "mimetype": "text/x-python",
   "name": "python",
   "nbconvert_exporter": "python",
   "pygments_lexer": "ipython3",
   "version": "3.10.9"
  }
 },
 "nbformat": 4,
 "nbformat_minor": 5
}
