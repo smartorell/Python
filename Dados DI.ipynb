{
 "cells": [
  {
   "cell_type": "code",
   "execution_count": 1,
   "id": "692f816c",
   "metadata": {},
   "outputs": [],
   "source": [
    "import xml.etree.ElementTree as ET\n",
    "import pandas as pd\n",
    "import os"
   ]
  },
  {
   "cell_type": "code",
   "execution_count": 2,
   "id": "05416f9b",
   "metadata": {},
   "outputs": [],
   "source": [
    "# Diretorio de trabalho\n",
    "os.chdir(r'C:\\Users\\silmao\\OneDrive - Dufry International AG\\Documentos\\GECEX\\Extracao_SISCOMEX\\DLF')"
   ]
  },
  {
   "cell_type": "code",
   "execution_count": 3,
   "id": "fac22f74",
   "metadata": {},
   "outputs": [],
   "source": [
    "# Saida MVA - nivel Adição\n",
    "c = [[\"Importador\",\"Num DI\",\"Data Reg\", \"Data Desemb\", \"Canal\", \"Tipo\", \"Modal\", \"Fatura\", \"FOB USD\", \n",
    "     \"Adicao\", \"Cod MVA\", \"MVA\", \"Cod NCM\", \"NCM\"]]"
   ]
  },
  {
   "cell_type": "code",
   "execution_count": 4,
   "id": "f1d69708",
   "metadata": {},
   "outputs": [],
   "source": [
    "df = pd.DataFrame(data =None, index=None, columns=c)"
   ]
  },
  {
   "cell_type": "code",
   "execution_count": 5,
   "id": "1264b7e0",
   "metadata": {},
   "outputs": [],
   "source": [
    "r = list()"
   ]
  },
  {
   "cell_type": "code",
   "execution_count": 6,
   "id": "ed27bec0",
   "metadata": {},
   "outputs": [],
   "source": [
    "lista_arquivos = [f for f in os.listdir('.') if f.endswith(\".xml\")]"
   ]
  },
  {
   "cell_type": "code",
   "execution_count": 7,
   "id": "c15cedc1",
   "metadata": {},
   "outputs": [
    {
     "data": {
      "text/plain": [
       "['2212376366.xml',\n",
       " '2212379861.xml',\n",
       " '2212389824.xml',\n",
       " '2212422139.xml',\n",
       " '2212490347.xml',\n",
       " '2212493737.xml',\n",
       " '2212639421.xml',\n",
       " '2212661303.xml']"
      ]
     },
     "execution_count": 7,
     "metadata": {},
     "output_type": "execute_result"
    }
   ],
   "source": [
    "lista_arquivos"
   ]
  },
  {
   "cell_type": "code",
   "execution_count": 8,
   "id": "c168dcc4",
   "metadata": {},
   "outputs": [],
   "source": [
    "for f in lista_arquivos:\n",
    "    tree = ET.parse(os.getcwd()+'\\\\'+f)\n",
    "    root = tree.getroot()\n",
    "    for ad in root[0].findall('adicao'):\n",
    "        r.append(root[0].find('importadorNome').text)\n",
    "        r.append(root[0].find('numeroDI').text)\n",
    "        r.append(root[0].find('dataRegistro').text)\n",
    "        r.append(root[0].find('dataDesembaraco').text)\n",
    "        r.append(root[0].find('canalSelecaoParametrizada').text)\n",
    "        r.append(root[0].find('tipoDeclaracaoNome').text)\n",
    "        r.append(root[0].find('viaTransporteNome').text)\n",
    "        r.append(root[0].find('documentoInstrucaoDespacho')[2].text)\n",
    "        r.append(float(root[0].find('localEmbarqueTotalDolares').text)/100)\n",
    "        r.append(ad.find('numeroAdicao').text)\n",
    "        r.append(ad.find('condicaoVendaMetodoValoracaoCodigo').text)\n",
    "        r.append(ad.find('condicaoVendaMetodoValoracaoNome').text)\n",
    "        r.append(ad.find('dadosMercadoriaCodigoNcm').text)\n",
    "        r.append(ad.find('dadosMercadoriaNomeNcm').text)\n",
    "        df.loc[len(df)] = r\n",
    "        r.clear()"
   ]
  },
  {
   "cell_type": "code",
   "execution_count": 9,
   "id": "c9218acf",
   "metadata": {},
   "outputs": [
    {
     "data": {
      "text/html": [
       "<div>\n",
       "<style scoped>\n",
       "    .dataframe tbody tr th:only-of-type {\n",
       "        vertical-align: middle;\n",
       "    }\n",
       "\n",
       "    .dataframe tbody tr th {\n",
       "        vertical-align: top;\n",
       "    }\n",
       "\n",
       "    .dataframe thead tr th {\n",
       "        text-align: left;\n",
       "    }\n",
       "</style>\n",
       "<table border=\"1\" class=\"dataframe\">\n",
       "  <thead>\n",
       "    <tr>\n",
       "      <th></th>\n",
       "      <th>Importador</th>\n",
       "      <th>Num DI</th>\n",
       "      <th>Data Reg</th>\n",
       "      <th>Data Desemb</th>\n",
       "      <th>Canal</th>\n",
       "      <th>Tipo</th>\n",
       "      <th>Modal</th>\n",
       "      <th>Fatura</th>\n",
       "      <th>FOB USD</th>\n",
       "      <th>Adicao</th>\n",
       "      <th>Cod MVA</th>\n",
       "      <th>MVA</th>\n",
       "      <th>Cod NCM</th>\n",
       "      <th>NCM</th>\n",
       "    </tr>\n",
       "  </thead>\n",
       "  <tbody>\n",
       "    <tr>\n",
       "      <th>0</th>\n",
       "      <td>DUFRY LOJAS FRANCAS LTDA.</td>\n",
       "      <td>2212376366</td>\n",
       "      <td>20220701</td>\n",
       "      <td>20220701</td>\n",
       "      <td>001</td>\n",
       "      <td>ADMISSAO EM LOJA FRANCA</td>\n",
       "      <td>MARÍTIMA</td>\n",
       "      <td>0000110852</td>\n",
       "      <td>467886.29</td>\n",
       "      <td>001</td>\n",
       "      <td>02</td>\n",
       "      <td>METODO 2 - ART. 2 DO ACORDO (DECRETO 92930/86)</td>\n",
       "      <td>33030010</td>\n",
       "      <td>Perfumes (extratos)</td>\n",
       "    </tr>\n",
       "    <tr>\n",
       "      <th>1</th>\n",
       "      <td>DUFRY LOJAS FRANCAS LTDA.</td>\n",
       "      <td>2212376366</td>\n",
       "      <td>20220701</td>\n",
       "      <td>20220701</td>\n",
       "      <td>001</td>\n",
       "      <td>ADMISSAO EM LOJA FRANCA</td>\n",
       "      <td>MARÍTIMA</td>\n",
       "      <td>0000110852</td>\n",
       "      <td>467886.29</td>\n",
       "      <td>002</td>\n",
       "      <td>02</td>\n",
       "      <td>METODO 2 - ART. 2 DO ACORDO (DECRETO 92930/86)</td>\n",
       "      <td>33030010</td>\n",
       "      <td>Perfumes (extratos)</td>\n",
       "    </tr>\n",
       "    <tr>\n",
       "      <th>2</th>\n",
       "      <td>DUFRY LOJAS FRANCAS LTDA.</td>\n",
       "      <td>2212376366</td>\n",
       "      <td>20220701</td>\n",
       "      <td>20220701</td>\n",
       "      <td>001</td>\n",
       "      <td>ADMISSAO EM LOJA FRANCA</td>\n",
       "      <td>MARÍTIMA</td>\n",
       "      <td>0000110852</td>\n",
       "      <td>467886.29</td>\n",
       "      <td>003</td>\n",
       "      <td>02</td>\n",
       "      <td>METODO 2 - ART. 2 DO ACORDO (DECRETO 92930/86)</td>\n",
       "      <td>33030010</td>\n",
       "      <td>Perfumes (extratos)</td>\n",
       "    </tr>\n",
       "    <tr>\n",
       "      <th>3</th>\n",
       "      <td>DUFRY LOJAS FRANCAS LTDA.</td>\n",
       "      <td>2212376366</td>\n",
       "      <td>20220701</td>\n",
       "      <td>20220701</td>\n",
       "      <td>001</td>\n",
       "      <td>ADMISSAO EM LOJA FRANCA</td>\n",
       "      <td>MARÍTIMA</td>\n",
       "      <td>0000110852</td>\n",
       "      <td>467886.29</td>\n",
       "      <td>004</td>\n",
       "      <td>02</td>\n",
       "      <td>METODO 2 - ART. 2 DO ACORDO (DECRETO 92930/86)</td>\n",
       "      <td>33030010</td>\n",
       "      <td>Perfumes (extratos)</td>\n",
       "    </tr>\n",
       "    <tr>\n",
       "      <th>4</th>\n",
       "      <td>DUFRY LOJAS FRANCAS LTDA.</td>\n",
       "      <td>2212376366</td>\n",
       "      <td>20220701</td>\n",
       "      <td>20220701</td>\n",
       "      <td>001</td>\n",
       "      <td>ADMISSAO EM LOJA FRANCA</td>\n",
       "      <td>MARÍTIMA</td>\n",
       "      <td>0000110852</td>\n",
       "      <td>467886.29</td>\n",
       "      <td>005</td>\n",
       "      <td>02</td>\n",
       "      <td>METODO 2 - ART. 2 DO ACORDO (DECRETO 92930/86)</td>\n",
       "      <td>33030010</td>\n",
       "      <td>Perfumes (extratos)</td>\n",
       "    </tr>\n",
       "    <tr>\n",
       "      <th>5</th>\n",
       "      <td>DUFRY LOJAS FRANCAS LTDA.</td>\n",
       "      <td>2212376366</td>\n",
       "      <td>20220701</td>\n",
       "      <td>20220701</td>\n",
       "      <td>001</td>\n",
       "      <td>ADMISSAO EM LOJA FRANCA</td>\n",
       "      <td>MARÍTIMA</td>\n",
       "      <td>0000110852</td>\n",
       "      <td>467886.29</td>\n",
       "      <td>006</td>\n",
       "      <td>02</td>\n",
       "      <td>METODO 2 - ART. 2 DO ACORDO (DECRETO 92930/86)</td>\n",
       "      <td>33030010</td>\n",
       "      <td>Perfumes (extratos)</td>\n",
       "    </tr>\n",
       "    <tr>\n",
       "      <th>6</th>\n",
       "      <td>DUFRY LOJAS FRANCAS LTDA.</td>\n",
       "      <td>2212376366</td>\n",
       "      <td>20220701</td>\n",
       "      <td>20220701</td>\n",
       "      <td>001</td>\n",
       "      <td>ADMISSAO EM LOJA FRANCA</td>\n",
       "      <td>MARÍTIMA</td>\n",
       "      <td>0000110852</td>\n",
       "      <td>467886.29</td>\n",
       "      <td>007</td>\n",
       "      <td>02</td>\n",
       "      <td>METODO 2 - ART. 2 DO ACORDO (DECRETO 92930/86)</td>\n",
       "      <td>33030010</td>\n",
       "      <td>Perfumes (extratos)</td>\n",
       "    </tr>\n",
       "    <tr>\n",
       "      <th>7</th>\n",
       "      <td>DUFRY LOJAS FRANCAS LTDA.</td>\n",
       "      <td>2212376366</td>\n",
       "      <td>20220701</td>\n",
       "      <td>20220701</td>\n",
       "      <td>001</td>\n",
       "      <td>ADMISSAO EM LOJA FRANCA</td>\n",
       "      <td>MARÍTIMA</td>\n",
       "      <td>0000110852</td>\n",
       "      <td>467886.29</td>\n",
       "      <td>008</td>\n",
       "      <td>02</td>\n",
       "      <td>METODO 2 - ART. 2 DO ACORDO (DECRETO 92930/86)</td>\n",
       "      <td>33030010</td>\n",
       "      <td>Perfumes (extratos)</td>\n",
       "    </tr>\n",
       "    <tr>\n",
       "      <th>8</th>\n",
       "      <td>DUFRY LOJAS FRANCAS LTDA.</td>\n",
       "      <td>2212376366</td>\n",
       "      <td>20220701</td>\n",
       "      <td>20220701</td>\n",
       "      <td>001</td>\n",
       "      <td>ADMISSAO EM LOJA FRANCA</td>\n",
       "      <td>MARÍTIMA</td>\n",
       "      <td>0000110852</td>\n",
       "      <td>467886.29</td>\n",
       "      <td>009</td>\n",
       "      <td>02</td>\n",
       "      <td>METODO 2 - ART. 2 DO ACORDO (DECRETO 92930/86)</td>\n",
       "      <td>33030010</td>\n",
       "      <td>Perfumes (extratos)</td>\n",
       "    </tr>\n",
       "    <tr>\n",
       "      <th>9</th>\n",
       "      <td>DUFRY LOJAS FRANCAS LTDA.</td>\n",
       "      <td>2212376366</td>\n",
       "      <td>20220701</td>\n",
       "      <td>20220701</td>\n",
       "      <td>001</td>\n",
       "      <td>ADMISSAO EM LOJA FRANCA</td>\n",
       "      <td>MARÍTIMA</td>\n",
       "      <td>0000110852</td>\n",
       "      <td>467886.29</td>\n",
       "      <td>010</td>\n",
       "      <td>02</td>\n",
       "      <td>METODO 2 - ART. 2 DO ACORDO (DECRETO 92930/86)</td>\n",
       "      <td>33030010</td>\n",
       "      <td>Perfumes (extratos)</td>\n",
       "    </tr>\n",
       "  </tbody>\n",
       "</table>\n",
       "</div>"
      ],
      "text/plain": [
       "                  Importador      Num DI  Data Reg Data Desemb Canal  \\\n",
       "0  DUFRY LOJAS FRANCAS LTDA.  2212376366  20220701    20220701   001   \n",
       "1  DUFRY LOJAS FRANCAS LTDA.  2212376366  20220701    20220701   001   \n",
       "2  DUFRY LOJAS FRANCAS LTDA.  2212376366  20220701    20220701   001   \n",
       "3  DUFRY LOJAS FRANCAS LTDA.  2212376366  20220701    20220701   001   \n",
       "4  DUFRY LOJAS FRANCAS LTDA.  2212376366  20220701    20220701   001   \n",
       "5  DUFRY LOJAS FRANCAS LTDA.  2212376366  20220701    20220701   001   \n",
       "6  DUFRY LOJAS FRANCAS LTDA.  2212376366  20220701    20220701   001   \n",
       "7  DUFRY LOJAS FRANCAS LTDA.  2212376366  20220701    20220701   001   \n",
       "8  DUFRY LOJAS FRANCAS LTDA.  2212376366  20220701    20220701   001   \n",
       "9  DUFRY LOJAS FRANCAS LTDA.  2212376366  20220701    20220701   001   \n",
       "\n",
       "                      Tipo     Modal                     Fatura    FOB USD  \\\n",
       "0  ADMISSAO EM LOJA FRANCA  MARÍTIMA  0000110852                 467886.29   \n",
       "1  ADMISSAO EM LOJA FRANCA  MARÍTIMA  0000110852                 467886.29   \n",
       "2  ADMISSAO EM LOJA FRANCA  MARÍTIMA  0000110852                 467886.29   \n",
       "3  ADMISSAO EM LOJA FRANCA  MARÍTIMA  0000110852                 467886.29   \n",
       "4  ADMISSAO EM LOJA FRANCA  MARÍTIMA  0000110852                 467886.29   \n",
       "5  ADMISSAO EM LOJA FRANCA  MARÍTIMA  0000110852                 467886.29   \n",
       "6  ADMISSAO EM LOJA FRANCA  MARÍTIMA  0000110852                 467886.29   \n",
       "7  ADMISSAO EM LOJA FRANCA  MARÍTIMA  0000110852                 467886.29   \n",
       "8  ADMISSAO EM LOJA FRANCA  MARÍTIMA  0000110852                 467886.29   \n",
       "9  ADMISSAO EM LOJA FRANCA  MARÍTIMA  0000110852                 467886.29   \n",
       "\n",
       "  Adicao Cod MVA                                             MVA   Cod NCM  \\\n",
       "0    001      02  METODO 2 - ART. 2 DO ACORDO (DECRETO 92930/86)  33030010   \n",
       "1    002      02  METODO 2 - ART. 2 DO ACORDO (DECRETO 92930/86)  33030010   \n",
       "2    003      02  METODO 2 - ART. 2 DO ACORDO (DECRETO 92930/86)  33030010   \n",
       "3    004      02  METODO 2 - ART. 2 DO ACORDO (DECRETO 92930/86)  33030010   \n",
       "4    005      02  METODO 2 - ART. 2 DO ACORDO (DECRETO 92930/86)  33030010   \n",
       "5    006      02  METODO 2 - ART. 2 DO ACORDO (DECRETO 92930/86)  33030010   \n",
       "6    007      02  METODO 2 - ART. 2 DO ACORDO (DECRETO 92930/86)  33030010   \n",
       "7    008      02  METODO 2 - ART. 2 DO ACORDO (DECRETO 92930/86)  33030010   \n",
       "8    009      02  METODO 2 - ART. 2 DO ACORDO (DECRETO 92930/86)  33030010   \n",
       "9    010      02  METODO 2 - ART. 2 DO ACORDO (DECRETO 92930/86)  33030010   \n",
       "\n",
       "                   NCM  \n",
       "0  Perfumes (extratos)  \n",
       "1  Perfumes (extratos)  \n",
       "2  Perfumes (extratos)  \n",
       "3  Perfumes (extratos)  \n",
       "4  Perfumes (extratos)  \n",
       "5  Perfumes (extratos)  \n",
       "6  Perfumes (extratos)  \n",
       "7  Perfumes (extratos)  \n",
       "8  Perfumes (extratos)  \n",
       "9  Perfumes (extratos)  "
      ]
     },
     "execution_count": 9,
     "metadata": {},
     "output_type": "execute_result"
    }
   ],
   "source": [
    "df.head(10)"
   ]
  },
  {
   "cell_type": "code",
   "execution_count": 10,
   "id": "c8250944",
   "metadata": {},
   "outputs": [],
   "source": [
    "# Grava resultado final\n",
    "df.to_excel('Dados_DI.xlsx')"
   ]
  },
  {
   "cell_type": "code",
   "execution_count": null,
   "id": "10c26b6b",
   "metadata": {},
   "outputs": [],
   "source": [
    "# FIM"
   ]
  },
  {
   "cell_type": "code",
   "execution_count": null,
   "id": "e7f30bf5",
   "metadata": {},
   "outputs": [],
   "source": [
    "c = [[\"Importador\",\"Num DI\",\"Data Reg\", \"Data Desemb\", \"Canal\", \"Tipo\", \"Modal\", \"Fatura\", \"FOB USD\", \n",
    "     \"Adicao\", \"Cod MVA\", \"MVA\", \"Cod NCM\", \"NCM\", \"Produto\", \"Qtde\", \"Val Unit USD\"]]"
   ]
  },
  {
   "cell_type": "code",
   "execution_count": null,
   "id": "c5e9ec2b",
   "metadata": {},
   "outputs": [],
   "source": [
    "tree = ET.parse(r'C:\\Users\\silmao\\Downloads\\2410029859.xml')"
   ]
  },
  {
   "cell_type": "code",
   "execution_count": null,
   "id": "fa473753",
   "metadata": {},
   "outputs": [],
   "source": [
    "root = tree.getroot()"
   ]
  },
  {
   "cell_type": "code",
   "execution_count": null,
   "id": "1b7898bf",
   "metadata": {},
   "outputs": [],
   "source": [
    "for ad in root[0].findall('adicao'):\n",
    "    for it in ad.findall('mercadoria'):\n",
    "        r.append(root[0].find('importadorNome').text)\n",
    "        r.append(root[0].find('numeroDI').text)\n",
    "        r.append(root[0].find('dataRegistro').text)\n",
    "        r.append(root[0].find('dataDesembaraco').text)\n",
    "        r.append(root[0].find('canalSelecaoParametrizada').text)\n",
    "        r.append(root[0].find('tipoDeclaracaoNome').text)\n",
    "        r.append(root[0].find('viaTransporteNome').text)\n",
    "        r.append(root[0].find('documentoInstrucaoDespacho')[2].text)\n",
    "        r.append(float(root[0].find('localEmbarqueTotalDolares').text)/100)\n",
    "        r.append(ad.find('numeroAdicao').text)\n",
    "        r.append(ad.find('condicaoVendaMetodoValoracaoCodigo').text)\n",
    "        r.append(ad.find('condicaoVendaMetodoValoracaoNome').text)\n",
    "        r.append(ad.find('dadosMercadoriaCodigoNcm').text)\n",
    "        r.append(ad.find('dadosMercadoriaNomeNcm').text)\n",
    "        r.append(it.find('descricaoMercadoria').text)\n",
    "        r.append(int(it.find('quantidade').text)/100000)\n",
    "        r.append(float(it.find('valorUnitario').text)/10000000)\n",
    "        \n",
    "        df.loc[len(df)] = r\n",
    "        r.clear()"
   ]
  },
  {
   "cell_type": "code",
   "execution_count": 11,
   "id": "c408d461",
   "metadata": {},
   "outputs": [],
   "source": [
    "# Grava resultado final\n",
    "df.to_csv('Dados_DI.csv', sep=\";\", encoding=\"utf-8\")\n",
    "#df.to_excel('Dados_DI.xlsx')"
   ]
  },
  {
   "cell_type": "code",
   "execution_count": null,
   "id": "dad0767b",
   "metadata": {},
   "outputs": [],
   "source": [
    "# FIM"
   ]
  },
  {
   "cell_type": "code",
   "execution_count": null,
   "id": "1002bd05",
   "metadata": {},
   "outputs": [],
   "source": [
    "root[0][1][0].text"
   ]
  },
  {
   "cell_type": "code",
   "execution_count": null,
   "id": "c76b895e",
   "metadata": {},
   "outputs": [],
   "source": [
    "root[0].find('numeroDI').text"
   ]
  },
  {
   "cell_type": "code",
   "execution_count": null,
   "id": "e1c55a90",
   "metadata": {},
   "outputs": [],
   "source": [
    "root[0].find('documentoInstrucaoDespacho')[2].text"
   ]
  },
  {
   "cell_type": "code",
   "execution_count": null,
   "id": "d3fd9ea1",
   "metadata": {},
   "outputs": [],
   "source": [
    "df"
   ]
  },
  {
   "cell_type": "code",
   "execution_count": null,
   "id": "390b8d6d",
   "metadata": {},
   "outputs": [],
   "source": [
    "os.getcwd()"
   ]
  },
  {
   "cell_type": "code",
   "execution_count": null,
   "id": "5d96255f",
   "metadata": {},
   "outputs": [],
   "source": [
    "float(root[0].find('localEmbarqueTotalDolares').text)/100"
   ]
  },
  {
   "cell_type": "code",
   "execution_count": null,
   "id": "ffddea95",
   "metadata": {},
   "outputs": [],
   "source": []
  }
 ],
 "metadata": {
  "kernelspec": {
   "display_name": "Python 3 (ipykernel)",
   "language": "python",
   "name": "python3"
  },
  "language_info": {
   "codemirror_mode": {
    "name": "ipython",
    "version": 3
   },
   "file_extension": ".py",
   "mimetype": "text/x-python",
   "name": "python",
   "nbconvert_exporter": "python",
   "pygments_lexer": "ipython3",
   "version": "3.10.9"
  }
 },
 "nbformat": 4,
 "nbformat_minor": 5
}
