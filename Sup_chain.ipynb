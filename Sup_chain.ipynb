{
 "cells": [
  {
   "cell_type": "code",
   "execution_count": null,
   "id": "ba8871ec",
   "metadata": {},
   "outputs": [],
   "source": [
    "import os, glob\n",
    "import shutil, zipfile\n",
    "import warnings\n",
    "import pandas as pd\n",
    "import datetime as dt\n",
    "import pandasql\n",
    "import numpy as np\n",
    "from datetime import datetime\n",
    "from pandasql import sqldf"
   ]
  },
  {
   "cell_type": "code",
   "execution_count": null,
   "id": "39f2065d",
   "metadata": {},
   "outputs": [],
   "source": [
    "with warnings.catch_warnings():\n",
    "    warnings.simplefilter(\"ignore\")\n",
    "    #warnings.warn(\"DataFrame is highly fragmented\", PerformanceWarning)"
   ]
  },
  {
   "cell_type": "code",
   "execution_count": null,
   "id": "a1380cd2",
   "metadata": {},
   "outputs": [],
   "source": [
    "bu = \"BP\"\n",
    "cd ={\"BP\":\"BPA907\",\"BR\":\"BRA903\",\"BD\":\"BDA902\"}"
   ]
  },
  {
   "cell_type": "code",
   "execution_count": null,
   "id": "a62c1dd4",
   "metadata": {},
   "outputs": [],
   "source": [
    "if bu not in cd:\n",
    "    print(\"sair\")"
   ]
  },
  {
   "cell_type": "code",
   "execution_count": null,
   "id": "0a76a83a",
   "metadata": {},
   "outputs": [],
   "source": [
    "# Buscando arquivos\n",
    "origem = r'Y:\\Reports'\n",
    "destino = r'C:\\Users\\silmao\\OneDrive - Dufry International AG\\Documentos\\BI'\n",
    "os.chdir(destino)"
   ]
  },
  {
   "cell_type": "code",
   "execution_count": null,
   "id": "380ce50d",
   "metadata": {},
   "outputs": [],
   "source": [
    "shutil.copy(origem+'\\GESETPAR\\GESETPAR-'+ bu +'.ZIP', destino)\n",
    "shutil.copy(origem+'\\INSTPAAR\\INSTPAAR-'+ bu +'.ZIP', destino)"
   ]
  },
  {
   "cell_type": "code",
   "execution_count": null,
   "id": "30b9f7c9",
   "metadata": {},
   "outputs": [],
   "source": [
    "with zipfile.ZipFile('GESETPAR-'+ bu +'.ZIP', 'r') as zip_ref:\n",
    "    zip_ref.extractall()"
   ]
  },
  {
   "cell_type": "code",
   "execution_count": null,
   "id": "4388b53c",
   "metadata": {},
   "outputs": [],
   "source": [
    "shutil.move(zip_ref.namelist()[0], 'GESETPAR-'+ bu +'.XLS')"
   ]
  },
  {
   "cell_type": "code",
   "execution_count": null,
   "id": "ce6a89db",
   "metadata": {},
   "outputs": [],
   "source": [
    "with zipfile.ZipFile('INSTPAAR-'+ bu +'.ZIP', 'r') as zip_ref:\n",
    "    zip_ref.extractall()"
   ]
  },
  {
   "cell_type": "code",
   "execution_count": null,
   "id": "6839459f",
   "metadata": {},
   "outputs": [],
   "source": [
    "shutil.move(zip_ref.namelist()[0], 'INSTPAAR-'+ bu +'.XLS')"
   ]
  },
  {
   "cell_type": "code",
   "execution_count": null,
   "id": "469c7f70",
   "metadata": {},
   "outputs": [],
   "source": [
    "def limpa(strLimpar):\n",
    "    return str.strip(strLimpar)[2:-1]"
   ]
  },
  {
   "cell_type": "code",
   "execution_count": null,
   "id": "70d6ea94",
   "metadata": {},
   "outputs": [],
   "source": [
    "# GESETPAR\n",
    "gesetpar = pd.read_table('GESETPAR-'+ bu +'.XLS', header = 0 , sep=\"\\t\", encoding='latin1', low_memory = False, usecols=[ 0, 1, 2, 5, 10, 15, 16, 17, 20, 22, 26,  31, 32, 35, 36, 37, 38, 39, 40, 41, 42, 43, 44, 45, 46, 75, 76, 77, 78, 79, 80], converters={1:limpa, 79:limpa})"
   ]
  },
  {
   "cell_type": "code",
   "execution_count": null,
   "id": "06a01d47",
   "metadata": {},
   "outputs": [],
   "source": [
    "gesetpar.head(10)"
   ]
  },
  {
   "cell_type": "code",
   "execution_count": null,
   "id": "6c71914d",
   "metadata": {},
   "outputs": [],
   "source": [
    "gesetpar.columns = gesetpar.columns.map(str.strip)"
   ]
  },
  {
   "cell_type": "code",
   "execution_count": null,
   "id": "aa55ce8e",
   "metadata": {},
   "outputs": [],
   "source": [
    "# Altera ordem colunas no dataframe\n",
    "cols = [5, 6, 8, 0, 1, 2, 3, 4, 7, 9, 10, 11, 12, 25, 26, 27, 28, 29, 30, 13, 14, 15, 16, 17, 18, 19, 20, 21, 22, 23, 24 ]\n",
    "gesetpar = gesetpar[[gesetpar.columns[i] for i in cols]]"
   ]
  },
  {
   "cell_type": "code",
   "execution_count": null,
   "id": "1563a13e",
   "metadata": {},
   "outputs": [],
   "source": [
    "gesetpar.columns"
   ]
  },
  {
   "cell_type": "code",
   "execution_count": null,
   "id": "9790a5d0",
   "metadata": {},
   "outputs": [],
   "source": [
    "gesetpar['GL.HI.CO.'] = gesetpar['GL.HI.CO.'].str[0:2]\n",
    "gesetpar = gesetpar.rename(columns={\"GL.HI.CO.\":\"CATEGORIA\"})"
   ]
  },
  {
   "cell_type": "code",
   "execution_count": null,
   "id": "d72c83b2",
   "metadata": {},
   "outputs": [],
   "source": [
    "gesetpar['STATUS ART. IN BUSSINESS UNIT'] = gesetpar['STATUS ART. IN BUSSINESS UNIT'].map(str.strip)"
   ]
  },
  {
   "cell_type": "code",
   "execution_count": null,
   "id": "652bbc91",
   "metadata": {},
   "outputs": [],
   "source": [
    "gesetpar['DESC STATUS'] = ['A' if i == '' else i for i in gesetpar['STATUS ART. IN BUSSINESS UNIT']]\n",
    "status = str.maketrans({'*':'DESCONTINUADO','A':'ATIVO','N':'NOVO','L':'ATIVO','X':'ATIVO'})\n",
    "gesetpar['DESC STATUS'] =  gesetpar['DESC STATUS'].str.translate(status)\n",
    "gesetpar = gesetpar.rename(columns={\"STATUS ART. IN BUSSINESS UNIT\":\"STATUS GAMMA\"})\n",
    "gesetpar.insert(8, \"DESC STATUS\", gesetpar.pop(\"DESC STATUS\"))"
   ]
  },
  {
   "cell_type": "code",
   "execution_count": null,
   "id": "b7907924",
   "metadata": {},
   "outputs": [],
   "source": [
    "# INSTPAAR\n",
    "instapaar = pd.read_table('INSTPAAR-'+ bu +'.XLS', sep=\"\\t\", encoding='latin1', low_memory = False, usecols=[0,1,5,9,10,16,17,18,19,20,32, 35], converters={5:limpa})"
   ]
  },
  {
   "cell_type": "code",
   "execution_count": null,
   "id": "8dbe2121",
   "metadata": {},
   "outputs": [],
   "source": [
    "instapaar.head(10)"
   ]
  },
  {
   "cell_type": "code",
   "execution_count": null,
   "id": "32d75e07",
   "metadata": {},
   "outputs": [],
   "source": [
    "instapaar.columns = instapaar.columns.map(str.strip)"
   ]
  },
  {
   "cell_type": "code",
   "execution_count": null,
   "id": "bf60cad5",
   "metadata": {},
   "outputs": [],
   "source": [
    "centros = instapaar[\"Center\"].unique()"
   ]
  },
  {
   "cell_type": "code",
   "execution_count": null,
   "id": "efe661cb",
   "metadata": {},
   "outputs": [],
   "source": [
    "saldo_lojas = instapaar.loc[instapaar[\"Center\"] != cd[bu], (\"Article\", \"Curr Stock\")]"
   ]
  },
  {
   "cell_type": "code",
   "execution_count": null,
   "id": "7951f5df",
   "metadata": {},
   "outputs": [],
   "source": [
    "saldo_lojas[\"Curr Stock\"] = saldo_lojas[\"Curr Stock\"].map(str.strip)"
   ]
  },
  {
   "cell_type": "code",
   "execution_count": null,
   "id": "9424f0dc",
   "metadata": {},
   "outputs": [],
   "source": [
    "saldo_lojas[\"Curr Stock\"] = saldo_lojas[\"Curr Stock\"].str.replace(\",00\",\"\")"
   ]
  },
  {
   "cell_type": "code",
   "execution_count": null,
   "id": "d9562a97",
   "metadata": {},
   "outputs": [],
   "source": [
    "saldo_lojas[\"Curr Stock\"] = saldo_lojas[\"Curr Stock\"].astype(int)"
   ]
  },
  {
   "cell_type": "code",
   "execution_count": null,
   "id": "f634e7c4",
   "metadata": {},
   "outputs": [],
   "source": [
    "saldo_lojas = saldo_lojas.groupby(by=\"Article\", as_index = False).sum()"
   ]
  },
  {
   "cell_type": "code",
   "execution_count": null,
   "id": "acce6a68",
   "metadata": {},
   "outputs": [],
   "source": [
    "saldo_lojas.head(10)"
   ]
  },
  {
   "cell_type": "code",
   "execution_count": null,
   "id": "dbd85fde",
   "metadata": {},
   "outputs": [],
   "source": [
    "instapaar = instapaar.pivot(index=\"Article\", columns=[\"Center\",\"Center SAP\"], values=[\"MAX\",\"MIN\",\"Curr Stock\", \"Transit\"]).reset_index()"
   ]
  },
  {
   "cell_type": "code",
   "execution_count": null,
   "id": "ec0cec61",
   "metadata": {},
   "outputs": [],
   "source": [
    "instapaar = instapaar.set_axis(instapaar.columns.map('_'.join), axis=1, copy=False)"
   ]
  },
  {
   "cell_type": "code",
   "execution_count": null,
   "id": "4b444c9d",
   "metadata": {},
   "outputs": [],
   "source": [
    "instapaar = instapaar.rename(columns={\"Article__\": \"Article\"})"
   ]
  },
  {
   "cell_type": "code",
   "execution_count": null,
   "id": "b9149cf8",
   "metadata": {},
   "outputs": [],
   "source": [
    "instapaar.columns = instapaar.columns.map(str.strip)"
   ]
  },
  {
   "cell_type": "code",
   "execution_count": null,
   "id": "7c29eb9d",
   "metadata": {},
   "outputs": [],
   "source": [
    "nova_ordem = [instapaar.columns[0]]\n",
    "nova_ordem.append(instapaar.columns[1])\n",
    "ret = [nova_ordem.append(c) for i in centros for c in instapaar.columns if i in c]"
   ]
  },
  {
   "cell_type": "code",
   "execution_count": null,
   "id": "c46a9e75",
   "metadata": {},
   "outputs": [],
   "source": [
    "instapaar = instapaar[nova_ordem]"
   ]
  },
  {
   "cell_type": "code",
   "execution_count": null,
   "id": "d1ef076c",
   "metadata": {},
   "outputs": [],
   "source": [
    "instapaar.columns[0:40]"
   ]
  },
  {
   "cell_type": "code",
   "execution_count": null,
   "id": "0a22f247",
   "metadata": {},
   "outputs": [],
   "source": [
    "# Gerando df consolidado\n",
    "df = gesetpar.merge(instapaar, left_on = \"ART. CODE\", right_on = \"Article\", how = \"left\")"
   ]
  },
  {
   "cell_type": "code",
   "execution_count": null,
   "id": "08d14ede",
   "metadata": {},
   "outputs": [],
   "source": [
    "df = df.merge(saldo_lojas, on=\"Article\", how=\"left\")"
   ]
  },
  {
   "cell_type": "code",
   "execution_count": null,
   "id": "d2d616c2",
   "metadata": {},
   "outputs": [],
   "source": [
    "df = df.drop([\"Article\"], axis = 1)"
   ]
  },
  {
   "cell_type": "code",
   "execution_count": null,
   "id": "50fe3e7d",
   "metadata": {},
   "outputs": [],
   "source": [
    "df.insert(13,\"SALDO LOJAS\", df.pop(\"Curr Stock\"))\n",
    "df[\"SALDO LOJAS\"] = df[\"SALDO LOJAS\"].fillna(0)"
   ]
  },
  {
   "cell_type": "code",
   "execution_count": null,
   "id": "a947f3e7",
   "metadata": {},
   "outputs": [],
   "source": [
    "df[\"SALDO LOJAS\"] = df[\"SALDO LOJAS\"].astype(int)"
   ]
  },
  {
   "cell_type": "code",
   "execution_count": null,
   "id": "9f601b83",
   "metadata": {},
   "outputs": [],
   "source": [
    "col_cd = [i for i in df.columns if i.startswith (\"Curr Stock_\"+cd[bu])][0]"
   ]
  },
  {
   "cell_type": "code",
   "execution_count": null,
   "id": "323e4f3d",
   "metadata": {},
   "outputs": [],
   "source": [
    "# Remover coluna do estoque corrente no armazem e inserir em outra posição\n",
    "df.insert(13,\"SALDO CD\", df.pop(col_cd))\n",
    "df[\"SALDO CD\"] = df[\"SALDO CD\"].fillna(0)"
   ]
  },
  {
   "cell_type": "code",
   "execution_count": null,
   "id": "64aa5bc9",
   "metadata": {},
   "outputs": [],
   "source": [
    "df = df.drop([t for t in df.columns if cd[bu] in t], axis = 1)"
   ]
  },
  {
   "cell_type": "code",
   "execution_count": null,
   "id": "a0ab310a",
   "metadata": {},
   "outputs": [],
   "source": [
    "df.insert(19,\"MERCHANDISE TYPE\", df.pop(\"MERCHANDISE TYPE\"))"
   ]
  },
  {
   "cell_type": "code",
   "execution_count": null,
   "id": "eb7f4a8b",
   "metadata": {},
   "outputs": [],
   "source": [
    "df.head(10)"
   ]
  },
  {
   "cell_type": "code",
   "execution_count": null,
   "id": "2ee813b0",
   "metadata": {},
   "outputs": [],
   "source": [
    "df.columns[0:40]"
   ]
  },
  {
   "cell_type": "code",
   "execution_count": null,
   "id": "8bff8b76",
   "metadata": {},
   "outputs": [],
   "source": [
    "# Grava resultado final\n",
    "saida = 'SUPPLY_CHAIN-'+bu+'.csv'"
   ]
  },
  {
   "cell_type": "code",
   "execution_count": null,
   "id": "2533b810",
   "metadata": {},
   "outputs": [],
   "source": [
    "df.to_csv(saida, sep=\";\", encoding=\"utf-8\")"
   ]
  },
  {
   "cell_type": "code",
   "execution_count": null,
   "id": "57ed18ea",
   "metadata": {},
   "outputs": [],
   "source": [
    "saida_zip = \"supply_chain_\"+bu+\".zip\"\n",
    "with zipfile.ZipFile(saida_zip, \"w\", compression=zipfile.ZIP_DEFLATED, compresslevel=9) as zip:\n",
    "    zip.write(saida)"
   ]
  },
  {
   "cell_type": "code",
   "execution_count": null,
   "id": "1e6b41cd",
   "metadata": {},
   "outputs": [],
   "source": [
    "shutil.copy(destino+'\\\\'+saida_zip, origem+'\\\\INSTPAAR\\\\')"
   ]
  },
  {
   "cell_type": "code",
   "execution_count": null,
   "id": "e7334e50",
   "metadata": {},
   "outputs": [],
   "source": [
    "#FIM"
   ]
  },
  {
   "cell_type": "code",
   "execution_count": null,
   "id": "e98f22ec",
   "metadata": {},
   "outputs": [],
   "source": [
    "# referencias: se dataframe multiindex\n",
    "df[\"SALDO CD\"] = df[[t for t in [c for c in df.columns if isinstance(c, tuple)] if t[0]=='Curr Stock' and t[1] ==\"BPA907\"][0]]"
   ]
  },
  {
   "cell_type": "code",
   "execution_count": null,
   "id": "e101ce83",
   "metadata": {},
   "outputs": [],
   "source": [
    "# Remover coluna do estoque corrente no armazem e inserir na posição 13\n",
    "df.insert(13, \"SALDO CD\", df.pop([t for t in [c for c in df.columns if isinstance(c, tuple)] if t[0]=='Curr Stock' and t[1] ==\"BPA907\"][0]))"
   ]
  },
  {
   "cell_type": "code",
   "execution_count": null,
   "id": "df629245",
   "metadata": {},
   "outputs": [],
   "source": [
    "# Remove demais colunas do BPA907\n",
    "df = df.drop([t for t in [c for c in df.columns if isinstance(c, tuple)] if t[1] ==\"BPA907\" or t[0] == \"Article\"], axis=1)"
   ]
  },
  {
   "cell_type": "code",
   "execution_count": null,
   "id": "9f283b73",
   "metadata": {},
   "outputs": [],
   "source": [
    "# colocando uma coluna em outra posição\n",
    "gesetpar.insert(0,\"Categoria\", gesetpar.pop(\"GL.HI.CO.\"))"
   ]
  },
  {
   "cell_type": "code",
   "execution_count": null,
   "id": "e3924def",
   "metadata": {},
   "outputs": [],
   "source": [
    "df.loc[df[\"SALDO LOJAS\"] != 0, \"SALDO LOJAS\"]"
   ]
  }
 ],
 "metadata": {
  "kernelspec": {
   "display_name": "Python 3 (ipykernel)",
   "language": "python",
   "name": "python3"
  },
  "language_info": {
   "codemirror_mode": {
    "name": "ipython",
    "version": 3
   },
   "file_extension": ".py",
   "mimetype": "text/x-python",
   "name": "python",
   "nbconvert_exporter": "python",
   "pygments_lexer": "ipython3",
   "version": "3.10.9"
  }
 },
 "nbformat": 4,
 "nbformat_minor": 5
}
