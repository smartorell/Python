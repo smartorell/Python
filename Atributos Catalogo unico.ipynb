{
 "cells": [
  {
   "cell_type": "code",
   "execution_count": 1,
   "id": "d85ac9c0",
   "metadata": {},
   "outputs": [],
   "source": [
    "import xml.etree.ElementTree as ET\n",
    "import pandas as pd\n",
    "import os\n",
    "import urllib.request\n",
    "import zipfile"
   ]
  },
  {
   "cell_type": "code",
   "execution_count": 2,
   "id": "e318c400",
   "metadata": {},
   "outputs": [],
   "source": [
    "# Diretorio de trabalho\n",
    "os.chdir(r'C:\\Users\\silmao\\Downloads')"
   ]
  },
  {
   "cell_type": "code",
   "execution_count": null,
   "id": "12a2266e",
   "metadata": {},
   "outputs": [],
   "source": [
    "# Recuperando NCMs de produtos Dufry\n",
    "#  recuperando de um arquivo text"
   ]
  },
  {
   "cell_type": "code",
   "execution_count": null,
   "id": "c14a7839",
   "metadata": {},
   "outputs": [],
   "source": [
    "df = pd.read_csv(\"ncm_dufry.txt\")"
   ]
  },
  {
   "cell_type": "code",
   "execution_count": 3,
   "id": "9ad963d3",
   "metadata": {},
   "outputs": [],
   "source": [
    "# ou recuperando direto da base de dados do GECEX\n",
    "import oracledb\n",
    "from sqlalchemy import create_engine\n",
    "# Path TNSNAMES\n",
    "oracledb.init_oracle_client(config_dir='C:\\Oracle\\instantclient_21_10\\network\\admin')"
   ]
  },
  {
   "cell_type": "code",
   "execution_count": 4,
   "id": "5c85aeca",
   "metadata": {},
   "outputs": [],
   "source": [
    "pysqldf = lambda q: sqldf(q, globals())\n",
    "# Conectando base Oracle\n",
    "def conecta_oracle(usu, senha, sid):\n",
    "    #conn = oracledb.connect(user = usu, password = senha, dsn = sid)\n",
    "    engine = create_engine('oracle+cx_oracle://'+usu+':'+senha+'@'+sid)\n",
    "    return engine"
   ]
  },
  {
   "cell_type": "code",
   "execution_count": 5,
   "id": "32e32bcb",
   "metadata": {},
   "outputs": [],
   "source": [
    "db = conecta_oracle(\"gecex\", \"u89dw037b1\", \"rjd27\")"
   ]
  },
  {
   "cell_type": "code",
   "execution_count": 6,
   "id": "eaa02083",
   "metadata": {},
   "outputs": [],
   "source": [
    "df = pd.read_sql_query(\"select distinct cod_ncm from exp_produto where cod_empresa = '30'\" , db)"
   ]
  },
  {
   "cell_type": "code",
   "execution_count": 7,
   "id": "2fa619cd",
   "metadata": {},
   "outputs": [],
   "source": [
    "# Encerrando conexão com banco de dados\n",
    "db.dispose()"
   ]
  },
  {
   "cell_type": "code",
   "execution_count": 8,
   "id": "e2450624",
   "metadata": {},
   "outputs": [
    {
     "data": {
      "text/html": [
       "<div>\n",
       "<style scoped>\n",
       "    .dataframe tbody tr th:only-of-type {\n",
       "        vertical-align: middle;\n",
       "    }\n",
       "\n",
       "    .dataframe tbody tr th {\n",
       "        vertical-align: top;\n",
       "    }\n",
       "\n",
       "    .dataframe thead th {\n",
       "        text-align: right;\n",
       "    }\n",
       "</style>\n",
       "<table border=\"1\" class=\"dataframe\">\n",
       "  <thead>\n",
       "    <tr style=\"text-align: right;\">\n",
       "      <th></th>\n",
       "      <th>cod_ncm</th>\n",
       "    </tr>\n",
       "  </thead>\n",
       "  <tbody>\n",
       "    <tr>\n",
       "      <th>0</th>\n",
       "      <td>9023000</td>\n",
       "    </tr>\n",
       "    <tr>\n",
       "      <th>1</th>\n",
       "      <td>9109900</td>\n",
       "    </tr>\n",
       "    <tr>\n",
       "      <th>2</th>\n",
       "      <td>10063019</td>\n",
       "    </tr>\n",
       "    <tr>\n",
       "      <th>3</th>\n",
       "      <td>16024900</td>\n",
       "    </tr>\n",
       "    <tr>\n",
       "      <th>4</th>\n",
       "      <td>16029000</td>\n",
       "    </tr>\n",
       "    <tr>\n",
       "      <th>5</th>\n",
       "      <td>20079910</td>\n",
       "    </tr>\n",
       "    <tr>\n",
       "      <th>6</th>\n",
       "      <td>20081900</td>\n",
       "    </tr>\n",
       "    <tr>\n",
       "      <th>7</th>\n",
       "      <td>22029900</td>\n",
       "    </tr>\n",
       "    <tr>\n",
       "      <th>8</th>\n",
       "      <td>22083020</td>\n",
       "    </tr>\n",
       "    <tr>\n",
       "      <th>9</th>\n",
       "      <td>32041830</td>\n",
       "    </tr>\n",
       "  </tbody>\n",
       "</table>\n",
       "</div>"
      ],
      "text/plain": [
       "    cod_ncm\n",
       "0   9023000\n",
       "1   9109900\n",
       "2  10063019\n",
       "3  16024900\n",
       "4  16029000\n",
       "5  20079910\n",
       "6  20081900\n",
       "7  22029900\n",
       "8  22083020\n",
       "9  32041830"
      ]
     },
     "execution_count": 8,
     "metadata": {},
     "output_type": "execute_result"
    }
   ],
   "source": [
    "df.head(10)"
   ]
  },
  {
   "cell_type": "code",
   "execution_count": 9,
   "id": "829a843f",
   "metadata": {},
   "outputs": [],
   "source": [
    "ls = df[\"cod_ncm\"].to_list()"
   ]
  },
  {
   "cell_type": "code",
   "execution_count": 19,
   "id": "d0898efc",
   "metadata": {},
   "outputs": [
    {
     "data": {
      "text/plain": [
       "0"
      ]
     },
     "execution_count": 19,
     "metadata": {},
     "output_type": "execute_result"
    }
   ],
   "source": [
    "ls.count(1012900)"
   ]
  },
  {
   "cell_type": "code",
   "execution_count": 10,
   "id": "600a5db5",
   "metadata": {},
   "outputs": [],
   "source": [
    "ls.sort()"
   ]
  },
  {
   "cell_type": "code",
   "execution_count": 3,
   "id": "d1c43fa2",
   "metadata": {},
   "outputs": [],
   "source": [
    "# Fazendo o download do Portal Unico\n",
    "URL = \"https://val.portalunico.siscomex.gov.br/cadatributos/api/atributo-ncm/download/xml\""
   ]
  },
  {
   "cell_type": "code",
   "execution_count": 10,
   "id": "4bce6788",
   "metadata": {},
   "outputs": [],
   "source": [
    "r = urllib.request.urlretrieve(URL)"
   ]
  },
  {
   "cell_type": "code",
   "execution_count": 11,
   "id": "ebea7b48",
   "metadata": {},
   "outputs": [],
   "source": [
    "file, response = r"
   ]
  },
  {
   "cell_type": "code",
   "execution_count": 17,
   "id": "959d71b0",
   "metadata": {},
   "outputs": [],
   "source": [
    "with zipfile.ZipFile(file, 'r') as zip_ref:\n",
    "    zip_ref.extractall()"
   ]
  },
  {
   "cell_type": "code",
   "execution_count": 23,
   "id": "45d9f912",
   "metadata": {},
   "outputs": [
    {
     "data": {
      "text/plain": [
       "'ATRIBUTOS_POR_NCM_2023_10_09.xml'"
      ]
     },
     "execution_count": 23,
     "metadata": {},
     "output_type": "execute_result"
    }
   ],
   "source": [
    "zip_ref.namelist()[0]"
   ]
  },
  {
   "cell_type": "code",
   "execution_count": 29,
   "id": "f48b793f",
   "metadata": {},
   "outputs": [],
   "source": [
    "# Arquivo xml Atributos\n",
    "tree = ET.parse(os.getcwd() + '\\\\' + zip_ref.namelist()[0])"
   ]
  },
  {
   "cell_type": "code",
   "execution_count": 30,
   "id": "74625941",
   "metadata": {},
   "outputs": [],
   "source": [
    "# apagando arquivos\n",
    "zip_ref.close()\n",
    "os.remove(zip_ref.namelist()[0])\n",
    "os.remove(file)"
   ]
  },
  {
   "cell_type": "code",
   "execution_count": 11,
   "id": "8b2e0c94",
   "metadata": {},
   "outputs": [],
   "source": [
    "# ou buscando de arquivo já baixado\n",
    "tree = ET.parse(r'C:\\Users\\silmao\\Downloads\\ATRIBUTOS_POR_NCM_2024_02_20.xml')"
   ]
  },
  {
   "cell_type": "code",
   "execution_count": 12,
   "id": "c873a6e5",
   "metadata": {},
   "outputs": [],
   "source": [
    "root = tree.getroot()"
   ]
  },
  {
   "cell_type": "code",
   "execution_count": 46,
   "id": "9a7bae54",
   "metadata": {},
   "outputs": [],
   "source": [
    "for ncm in root[1].findall('ncm'):\n",
    "    #print(int(ncm[0].text.replace('.','')))\n",
    "    if  int(ncm[0].text.replace('.','')) not in ls:\n",
    "        #print('Remover '+ ncm[0].text.replace('.',''))\n",
    "        root[1].remove(ncm)"
   ]
  },
  {
   "cell_type": "code",
   "execution_count": 47,
   "id": "5468ffab",
   "metadata": {},
   "outputs": [],
   "source": [
    "tree.write('ATRIBITOS_FILTRADO_OUT.xml', encoding=\"utf8\")"
   ]
  },
  {
   "cell_type": "code",
   "execution_count": null,
   "id": "ac1d3828",
   "metadata": {},
   "outputs": [],
   "source": [
    "#FIM leitura via xml"
   ]
  },
  {
   "cell_type": "code",
   "execution_count": 9,
   "id": "7c58a027",
   "metadata": {},
   "outputs": [],
   "source": [
    "# Arquivo json Atributos\n",
    "import json"
   ]
  },
  {
   "cell_type": "code",
   "execution_count": 36,
   "id": "6e4f287b",
   "metadata": {},
   "outputs": [],
   "source": [
    "with open('ATRIBUTOS_POR_NCM_2023_09_28.json', encoding=\"utf8\") as f:\n",
    "    #atributos = f.read()\n",
    "    atributos = json.load(f)"
   ]
  },
  {
   "cell_type": "code",
   "execution_count": 31,
   "id": "a3e60197",
   "metadata": {},
   "outputs": [],
   "source": [
    "# ainda nao está ok, não está apagando direito\n",
    "i = 0\n",
    "for ncm in atributos[\"listaNcm\"]:\n",
    "    if int(ncm[\"codigoNcm\"].replace('.','')) not in ls: \n",
    "        print(\"Remover: Indice \"+ i + \" \"+ atributos[\"listaNcm\"][i][\"codigoNcm\"])\n",
    "        del atributos[\"listaNcm\"][i]\n",
    "    else:\n",
    "        i+= 1"
   ]
  },
  {
   "cell_type": "code",
   "execution_count": 32,
   "id": "9057bdb0",
   "metadata": {},
   "outputs": [],
   "source": [
    "with open(\"ATRIBUTOS_FILTRADO_OUT.json\", 'w', encoding=\"utf8\") as o:\n",
    "    o.write(json.dumps(atributos, indent=4))"
   ]
  },
  {
   "cell_type": "code",
   "execution_count": null,
   "id": "2a45d22a",
   "metadata": {},
   "outputs": [],
   "source": [
    "# FIM leitura via json"
   ]
  },
  {
   "cell_type": "code",
   "execution_count": null,
   "id": "3b4914f0",
   "metadata": {},
   "outputs": [],
   "source": [
    "# rascunho"
   ]
  },
  {
   "cell_type": "code",
   "execution_count": null,
   "id": "fbdf38ec",
   "metadata": {},
   "outputs": [],
   "source": [
    "for ncm in root.iter('ncm'):\n",
    "    print(int(ncm[0].text.replace('.','')))\n",
    "    #print(ncm[0].text.replace('.',''))\n",
    "    if  int(ncm[0].text.replace('.','')) not in ls:\n",
    "        print('Remover '+ ncm[0].text.replace('.',''))\n",
    "        root[1].remove(ncm)"
   ]
  },
  {
   "cell_type": "code",
   "execution_count": 19,
   "id": "848597f1",
   "metadata": {},
   "outputs": [
    {
     "data": {
      "text/plain": [
       "'2022-07-14'"
      ]
     },
     "execution_count": 19,
     "metadata": {},
     "output_type": "execute_result"
    }
   ],
   "source": [
    "root[1][0][1][0][4].text"
   ]
  },
  {
   "cell_type": "code",
   "execution_count": 23,
   "id": "1ef3f93e",
   "metadata": {},
   "outputs": [
    {
     "data": {
      "text/plain": [
       "'0101.21.00'"
      ]
     },
     "execution_count": 23,
     "metadata": {},
     "output_type": "execute_result"
    }
   ],
   "source": [
    "root[1][0][0].text"
   ]
  },
  {
   "cell_type": "code",
   "execution_count": 26,
   "id": "6f7c3a4c",
   "metadata": {},
   "outputs": [],
   "source": [
    "ts = root[1].findall('ncm')"
   ]
  },
  {
   "cell_type": "code",
   "execution_count": 40,
   "id": "5d728e60",
   "metadata": {},
   "outputs": [
    {
     "data": {
      "text/plain": [
       "<function list.count(value, /)>"
      ]
     },
     "execution_count": 40,
     "metadata": {},
     "output_type": "execute_result"
    }
   ],
   "source": [
    "ts.count"
   ]
  },
  {
   "cell_type": "code",
   "execution_count": 45,
   "id": "0c65975b",
   "metadata": {},
   "outputs": [
    {
     "name": "stdout",
     "output_type": "stream",
     "text": [
      "1012100\n",
      "1012900\n",
      "1013000\n",
      "1019000\n",
      "1022110\n",
      "1022190\n",
      "1022911\n",
      "1022919\n",
      "1022990\n",
      "1023110\n"
     ]
    }
   ],
   "source": [
    "i = 0\n",
    "for ncm in root[1].findall('ncm'):\n",
    "    print(int(ncm[0].text.replace('.','')))\n",
    "    i += 1\n",
    "    if i == 10:\n",
    "        break   "
   ]
  },
  {
   "cell_type": "code",
   "execution_count": 43,
   "id": "d2db45d0",
   "metadata": {},
   "outputs": [
    {
     "name": "stdout",
     "output_type": "stream",
     "text": [
      "0101.21.00\n",
      "<Element 'codigoNcm' at 0x00000199FD825C60>\n",
      "0101.29.00\n",
      "<Element 'codigoNcm' at 0x00000199FD827600>\n",
      "0101.30.00\n",
      "<Element 'codigoNcm' at 0x00000199FD83CF90>\n",
      "0101.90.00\n",
      "<Element 'codigoNcm' at 0x00000199FD83E8E0>\n",
      "0102.21.10\n",
      "<Element 'codigoNcm' at 0x00000199FD848270>\n",
      "0102.21.90\n",
      "<Element 'codigoNcm' at 0x00000199FD8493A0>\n",
      "0102.29.11\n",
      "<Element 'codigoNcm' at 0x00000199FD84A4D0>\n",
      "0102.29.19\n",
      "<Element 'codigoNcm' at 0x00000199FD84B600>\n",
      "0102.29.90\n",
      "<Element 'codigoNcm' at 0x00000199FD850770>\n",
      "0102.31.10\n",
      "<Element 'codigoNcm' at 0x00000199FD8518A0>\n"
     ]
    }
   ],
   "source": [
    "for x in range(0,10):\n",
    "    print(root[1][x][0].text)\n",
    "    print(ts[x][0])"
   ]
  },
  {
   "cell_type": "code",
   "execution_count": null,
   "id": "5a40d991",
   "metadata": {},
   "outputs": [],
   "source": [
    "atributos[\"listaNcm\"][1][\"codigoNcm\"]"
   ]
  }
 ],
 "metadata": {
  "kernelspec": {
   "display_name": "Python 3 (ipykernel)",
   "language": "python",
   "name": "python3"
  },
  "language_info": {
   "codemirror_mode": {
    "name": "ipython",
    "version": 3
   },
   "file_extension": ".py",
   "mimetype": "text/x-python",
   "name": "python",
   "nbconvert_exporter": "python",
   "pygments_lexer": "ipython3",
   "version": "3.10.9"
  }
 },
 "nbformat": 4,
 "nbformat_minor": 5
}
